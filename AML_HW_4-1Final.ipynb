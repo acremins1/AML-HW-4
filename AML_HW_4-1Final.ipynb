{
  "cells": [
    {
      "cell_type": "markdown",
      "metadata": {
        "id": "npoWrtHxW8A-"
      },
      "source": [
        "MIS 382N: ADVANCED MACHINE LEARNING\n",
        "\n",
        "Assignment 4\n",
        "\n",
        "Total points: 75 + 5 bonus points\n",
        "\n",
        "Due: Monday, November 2 to be submitted via Canvas by 11:59 pm\n",
        "\n",
        "Your homework should be written in a python notebook. If you prefer, you can work in groups of two. **Please note that only one student per team needs to submit the assignment on Canvas but make sure to include both students' names and UT EIDs.**\n",
        "\n",
        "For any question that requires a handwritten solution, you may upload scanned images of your solution in the notebook or attach them to the assignment . You may write your solution using markdown as well.\n",
        "\n",
        "Please make sure your code runs and the graphs and figures are displayed in your notebook before submitting. (%matplotlib inline)\n",
        "\n",
        "**Additionally, upload any images you plan to incorporate in your notebook as attachments so we can see them in case the uploaded images don't appear properly on our end.**"
      ]
    },
    {
      "cell_type": "markdown",
      "metadata": {
        "id": "FPr7qTDfW9C5"
      },
      "source": [
        "**This can be an individual assignment or group of 2. If you choose to do it as a group, please specify who you are working with (name and EID), then only one student should submit the homework. Put your name and eid here.**\n",
        "\n",
        "Name: Peyton Lewis \n",
        "\n",
        "EID: prl497\n",
        "\n",
        "Name: Aidan Cremins\n",
        "\n",
        "EID: amc8738"
      ]
    },
    {
      "cell_type": "code",
      "execution_count": 1,
      "metadata": {},
      "outputs": [],
      "source": [
        "import warnings\n",
        "warnings.filterwarnings('ignore')"
      ]
    },
    {
      "cell_type": "markdown",
      "metadata": {
        "id": "3kF5773owvfR"
      },
      "source": [
        "# Question 1: Expected Loss Minimization [10 pts]\n",
        "Consider a binary classification problem with the following loss matrix -\n",
        "$$\n",
        "   {\\begin{array}{ccccc}\n",
        "   & & \\text{Predicted class} & \\text{           } &\\\\\n",
        "   & & C1 & C2 & Reject\\\\\n",
        "   \\text{True class} & C1 & 0 & r & c  \\\\\n",
        "   & C2 & s & 0 & c \\\\\n",
        "  \\end{array} } \n",
        "$$\n",
        "\n",
        "where the cost of rejection is a constant, and the costs $r$ and $s$ are positive real numbers. Let $f(x)=P(C1|x)$."
      ]
    },
    {
      "cell_type": "markdown",
      "metadata": {},
      "source": [
        "**(a) [2.5 points]** Show that the expected loss when $x$ is labelled as $C_1$ is a decreasing function of $f(x)$ while expected loss when $x$ is labelled as $C_2$ is a increasing function of $f(x)$.  \n",
        "![partA.jpg](partA.jpg)"
      ]
    },
    {
      "cell_type": "markdown",
      "metadata": {},
      "source": [
        "**(b) [2.5 points]** For $c=0$, show that the decision which minimizes the expected loss is to reject all instances of $x$\n",
        "![partB.jpg](partB.jpg)"
      ]
    },
    {
      "cell_type": "markdown",
      "metadata": {},
      "source": [
        "**(c) [2.5 points]** Let $r=5$ and $s=2$, what is the minimum value of $c$ such that no instance of $x$ gets rejected (irrespective of  $f(x)$)?\n",
        "![partC.jpg](partC.jpg)"
      ]
    },
    {
      "cell_type": "markdown",
      "metadata": {},
      "source": [
        "**(d) [2.5 points]** Let $r=7$, $s=4$, and $c=3$. Determine the  ranges of $f(x)$ for which the optimal decision is C1, reject and C2 respectively.\n",
        "![partD.jpg](partD.jpg)"
      ]
    },
    {
      "cell_type": "markdown",
      "metadata": {
        "id": "WyR-XDUVBE0N"
      },
      "source": [
        "# Question 2: Logistic Regression [5 points]\n",
        "Consider the problem of predicting the success of students in their undergraduate degrees given their high school GPA and SAT scores. We have the variables $X_1 =$ high school GPA, $X_2$ = SAT score and Y = completing the undergraduate degree (binary). We then fit a logistic regression which produces coefficients, $β_0 = −7$, $β_1 = 2$, $β_2 = 0.001$ Estimate the probability that George who\n",
        "has a GPA of 3.4 and an SAT score of 1500 will complete his undergraduate degree successfully according to this model. By how much will the probability increase if the GPA increases to 3.7, with other factors remaining the same?"
      ]
    },
    {
      "cell_type": "markdown",
      "metadata": {},
      "source": [
        "P = $\\frac{1}{1+e^{-(\\beta_0+\\beta_1*X_1+\\beta_2*X2)}}$\n",
        "<br>\n",
        "With a GPA of 3.4: P = $\\frac{1}{1+e^{-(-7+2*3.4+0.001*1500)}}$ = 0.7858.\n",
        "<br>\n",
        "When GPA increases to 3.7: P = $\\frac{1}{1+e^{-(-7+2*3.7+0.001*1500)}}$ = 0.8699.\n",
        "<br>\n",
        "Therefore, if the GPA increases to 3.7, the probability that George will complete his undergraduate degree increases by (0.8699-0.7858) = 0.0841 or about 8.41%. "
      ]
    },
    {
      "cell_type": "markdown",
      "metadata": {
        "id": "vwiBPkGX2vh1"
      },
      "source": [
        "\n",
        "# Question 3: Classification and Handling Class Imbalance [35 points + 5 bonus points]"
      ]
    },
    {
      "cell_type": "code",
      "execution_count": 2,
      "metadata": {
        "colab": {
          "base_uri": "https://localhost:8080/",
          "height": 39
        },
        "id": "MWJwIH6O24LF",
        "outputId": "a9374e89-99e7-4d9f-d45e-7f917fb5ca6f"
      },
      "outputs": [],
      "source": [
        "# # Only use this code block if you are using Google Colab.\n",
        "# # If you are using Jupyter Notebook, please ignore this code block. You can directly upload the file to your Jupyter Notebook file systems.\n",
        "# from google.colab import files\n",
        "\n",
        "# ## It will prompt you to select a local file. Click on “Choose Files” then select and upload the file. \n",
        "# ## Wait for the file to be 100% uploaded. You should see the name of the file once Colab has uploaded it.\n",
        "# uploaded = files.upload()"
      ]
    },
    {
      "cell_type": "code",
      "execution_count": 3,
      "metadata": {
        "id": "ETRfOnVf3Hge"
      },
      "outputs": [],
      "source": [
        "import pandas as pd\n",
        "import numpy as np\n",
        "import matplotlib.pyplot as plt\n",
        "\n",
        "from sklearn.model_selection import train_test_split\n",
        "from sklearn.metrics import roc_auc_score\n",
        "from sklearn import metrics\n",
        "from sklearn.metrics import confusion_matrix\n",
        "\n",
        "df = pd.read_csv('customer_churn_telcom.csv')\n",
        "#Drop the Unnamed:0 column\n",
        "df = df.drop(['Unnamed: 0'], axis=1)"
      ]
    },
    {
      "cell_type": "code",
      "execution_count": 4,
      "metadata": {
        "id": "iJrt4H-C3PwA"
      },
      "outputs": [
        {
          "data": {
            "text/html": [
              "<div>\n",
              "<style scoped>\n",
              "    .dataframe tbody tr th:only-of-type {\n",
              "        vertical-align: middle;\n",
              "    }\n",
              "\n",
              "    .dataframe tbody tr th {\n",
              "        vertical-align: top;\n",
              "    }\n",
              "\n",
              "    .dataframe thead th {\n",
              "        text-align: right;\n",
              "    }\n",
              "</style>\n",
              "<table border=\"1\" class=\"dataframe\">\n",
              "  <thead>\n",
              "    <tr style=\"text-align: right;\">\n",
              "      <th></th>\n",
              "      <th>gender</th>\n",
              "      <th>SeniorCitizen</th>\n",
              "      <th>Partner</th>\n",
              "      <th>Dependents</th>\n",
              "      <th>tenure</th>\n",
              "      <th>PhoneService</th>\n",
              "      <th>MultipleLines</th>\n",
              "      <th>InternetService</th>\n",
              "      <th>OnlineSecurity</th>\n",
              "      <th>OnlineBackup</th>\n",
              "      <th>DeviceProtection</th>\n",
              "      <th>TechSupport</th>\n",
              "      <th>StreamingTV</th>\n",
              "      <th>StreamingMovies</th>\n",
              "      <th>Contract</th>\n",
              "      <th>PaperlessBilling</th>\n",
              "      <th>PaymentMethod</th>\n",
              "      <th>MonthlyCharges</th>\n",
              "      <th>TotalCharges</th>\n",
              "      <th>Churn</th>\n",
              "    </tr>\n",
              "  </thead>\n",
              "  <tbody>\n",
              "    <tr>\n",
              "      <th>0</th>\n",
              "      <td>Female</td>\n",
              "      <td>0</td>\n",
              "      <td>Yes</td>\n",
              "      <td>No</td>\n",
              "      <td>1</td>\n",
              "      <td>No</td>\n",
              "      <td>No phone service</td>\n",
              "      <td>DSL</td>\n",
              "      <td>No</td>\n",
              "      <td>Yes</td>\n",
              "      <td>No</td>\n",
              "      <td>No</td>\n",
              "      <td>No</td>\n",
              "      <td>No</td>\n",
              "      <td>Month-to-month</td>\n",
              "      <td>Yes</td>\n",
              "      <td>Electronic check</td>\n",
              "      <td>29.85</td>\n",
              "      <td>29.85</td>\n",
              "      <td>No</td>\n",
              "    </tr>\n",
              "    <tr>\n",
              "      <th>1</th>\n",
              "      <td>Male</td>\n",
              "      <td>0</td>\n",
              "      <td>No</td>\n",
              "      <td>No</td>\n",
              "      <td>34</td>\n",
              "      <td>Yes</td>\n",
              "      <td>No</td>\n",
              "      <td>DSL</td>\n",
              "      <td>Yes</td>\n",
              "      <td>No</td>\n",
              "      <td>Yes</td>\n",
              "      <td>No</td>\n",
              "      <td>No</td>\n",
              "      <td>No</td>\n",
              "      <td>One year</td>\n",
              "      <td>No</td>\n",
              "      <td>Mailed check</td>\n",
              "      <td>56.95</td>\n",
              "      <td>1889.50</td>\n",
              "      <td>No</td>\n",
              "    </tr>\n",
              "    <tr>\n",
              "      <th>2</th>\n",
              "      <td>Male</td>\n",
              "      <td>0</td>\n",
              "      <td>No</td>\n",
              "      <td>No</td>\n",
              "      <td>2</td>\n",
              "      <td>Yes</td>\n",
              "      <td>No</td>\n",
              "      <td>DSL</td>\n",
              "      <td>Yes</td>\n",
              "      <td>Yes</td>\n",
              "      <td>No</td>\n",
              "      <td>No</td>\n",
              "      <td>No</td>\n",
              "      <td>No</td>\n",
              "      <td>Month-to-month</td>\n",
              "      <td>Yes</td>\n",
              "      <td>Mailed check</td>\n",
              "      <td>53.85</td>\n",
              "      <td>108.15</td>\n",
              "      <td>Yes</td>\n",
              "    </tr>\n",
              "    <tr>\n",
              "      <th>3</th>\n",
              "      <td>Male</td>\n",
              "      <td>0</td>\n",
              "      <td>No</td>\n",
              "      <td>No</td>\n",
              "      <td>45</td>\n",
              "      <td>No</td>\n",
              "      <td>No phone service</td>\n",
              "      <td>DSL</td>\n",
              "      <td>Yes</td>\n",
              "      <td>No</td>\n",
              "      <td>Yes</td>\n",
              "      <td>Yes</td>\n",
              "      <td>No</td>\n",
              "      <td>No</td>\n",
              "      <td>One year</td>\n",
              "      <td>No</td>\n",
              "      <td>Bank transfer (automatic)</td>\n",
              "      <td>42.30</td>\n",
              "      <td>1840.75</td>\n",
              "      <td>No</td>\n",
              "    </tr>\n",
              "    <tr>\n",
              "      <th>4</th>\n",
              "      <td>Female</td>\n",
              "      <td>0</td>\n",
              "      <td>No</td>\n",
              "      <td>No</td>\n",
              "      <td>2</td>\n",
              "      <td>Yes</td>\n",
              "      <td>No</td>\n",
              "      <td>Fiber optic</td>\n",
              "      <td>No</td>\n",
              "      <td>No</td>\n",
              "      <td>No</td>\n",
              "      <td>No</td>\n",
              "      <td>No</td>\n",
              "      <td>No</td>\n",
              "      <td>Month-to-month</td>\n",
              "      <td>Yes</td>\n",
              "      <td>Electronic check</td>\n",
              "      <td>70.70</td>\n",
              "      <td>151.65</td>\n",
              "      <td>Yes</td>\n",
              "    </tr>\n",
              "  </tbody>\n",
              "</table>\n",
              "</div>"
            ],
            "text/plain": [
              "   gender  SeniorCitizen Partner Dependents  tenure PhoneService  \\\n",
              "0  Female              0     Yes         No       1           No   \n",
              "1    Male              0      No         No      34          Yes   \n",
              "2    Male              0      No         No       2          Yes   \n",
              "3    Male              0      No         No      45           No   \n",
              "4  Female              0      No         No       2          Yes   \n",
              "\n",
              "      MultipleLines InternetService OnlineSecurity OnlineBackup  \\\n",
              "0  No phone service             DSL             No          Yes   \n",
              "1                No             DSL            Yes           No   \n",
              "2                No             DSL            Yes          Yes   \n",
              "3  No phone service             DSL            Yes           No   \n",
              "4                No     Fiber optic             No           No   \n",
              "\n",
              "  DeviceProtection TechSupport StreamingTV StreamingMovies        Contract  \\\n",
              "0               No          No          No              No  Month-to-month   \n",
              "1              Yes          No          No              No        One year   \n",
              "2               No          No          No              No  Month-to-month   \n",
              "3              Yes         Yes          No              No        One year   \n",
              "4               No          No          No              No  Month-to-month   \n",
              "\n",
              "  PaperlessBilling              PaymentMethod  MonthlyCharges  TotalCharges  \\\n",
              "0              Yes           Electronic check           29.85         29.85   \n",
              "1               No               Mailed check           56.95       1889.50   \n",
              "2              Yes               Mailed check           53.85        108.15   \n",
              "3               No  Bank transfer (automatic)           42.30       1840.75   \n",
              "4              Yes           Electronic check           70.70        151.65   \n",
              "\n",
              "  Churn  \n",
              "0    No  \n",
              "1    No  \n",
              "2   Yes  \n",
              "3    No  \n",
              "4   Yes  "
            ]
          },
          "execution_count": 4,
          "metadata": {},
          "output_type": "execute_result"
        }
      ],
      "source": [
        "# Printing the first five rows\n",
        "df.head()"
      ]
    },
    {
      "cell_type": "code",
      "execution_count": 5,
      "metadata": {
        "id": "Titxns6c3YPp"
      },
      "outputs": [
        {
          "name": "stdout",
          "output_type": "stream",
          "text": [
            "gender: ['Female' 'Male']\n",
            "Partner: ['Yes' 'No']\n",
            "Dependents: ['No' 'Yes']\n",
            "PhoneService: ['No' 'Yes']\n",
            "MultipleLines: ['No phone service' 'No' 'Yes']\n",
            "InternetService: ['DSL' 'Fiber optic' 'No']\n",
            "OnlineSecurity: ['No' 'Yes' 'No internet service']\n",
            "OnlineBackup: ['Yes' 'No' 'No internet service']\n",
            "DeviceProtection: ['No' 'Yes' 'No internet service']\n",
            "TechSupport: ['No' 'Yes' 'No internet service']\n",
            "StreamingTV: ['No' 'Yes' 'No internet service']\n",
            "StreamingMovies: ['No' 'Yes' 'No internet service']\n",
            "Contract: ['Month-to-month' 'One year' 'Two year']\n",
            "PaperlessBilling: ['Yes' 'No']\n",
            "PaymentMethod: ['Electronic check' 'Mailed check' 'Bank transfer (automatic)'\n",
            " 'Credit card (automatic)']\n",
            "Churn: ['No' 'Yes']\n"
          ]
        }
      ],
      "source": [
        "def print_unique_col_values(df):\n",
        "       for column in df:\n",
        "            if df[column].dtypes=='object':\n",
        "                print(f'{column}: {df[column].unique()}') \n",
        "\n",
        "print_unique_col_values(df)"
      ]
    },
    {
      "cell_type": "markdown",
      "metadata": {
        "id": "G6s0cK3G4NdW"
      },
      "source": [
        "## [5 points] Data Preprocessing \n",
        "\n",
        "(a) [1 pt] Some of the columns have values like - no internet service or no phone service. Replace these two values with with a simple No"
      ]
    },
    {
      "cell_type": "code",
      "execution_count": 6,
      "metadata": {
        "id": "vR3lyeovaW7R"
      },
      "outputs": [],
      "source": [
        "# Replace values with No\n",
        "df['MultipleLines'].replace('No phone service', 'No', inplace=True)\n",
        "df['OnlineSecurity'].replace('No internet service', 'No', inplace=True)\n",
        "df['OnlineBackup'].replace('No internet service', 'No', inplace=True)\n",
        "df['DeviceProtection'].replace('No internet service', 'No', inplace=True)\n",
        "df['TechSupport'].replace('No internet service', 'No', inplace=True)\n",
        "df['StreamingTV'].replace('No internet service', 'No', inplace=True)\n",
        "df['StreamingMovies'].replace('No internet service', 'No', inplace=True)"
      ]
    },
    {
      "cell_type": "markdown",
      "metadata": {
        "id": "kndExGVU42kx"
      },
      "source": [
        "(b) [1 pt] Convert all 'Yes' values to 1 and 'No' values to 0 <br>\n",
        "(c) [1 pt] Convert all  'Female' values to 1 and 'Male' values to 0"
      ]
    },
    {
      "cell_type": "code",
      "execution_count": 7,
      "metadata": {
        "id": "A_RQG50KaYPp"
      },
      "outputs": [],
      "source": [
        "# Changing values to 0/1\n",
        "\n",
        "yes_no_columns = ['Partner','Dependents','PhoneService','MultipleLines','OnlineSecurity','OnlineBackup',\n",
        "                  'DeviceProtection','TechSupport','StreamingTV','StreamingMovies','PaperlessBilling','Churn']\n",
        "for col in yes_no_columns:\n",
        "    df[col].replace({'Yes':1,'No':0},inplace=True)\n",
        "df['gender'].replace({'Female':1,'Male':0},inplace=True)"
      ]
    },
    {
      "cell_type": "markdown",
      "metadata": {
        "id": "Tp2Tumrm6EVo"
      },
      "source": [
        "(d) [2 pts] Perform one-hot encoding on the folowing columns: 'InternetService', 'Contract', 'PaymentMethod'"
      ]
    },
    {
      "cell_type": "code",
      "execution_count": 8,
      "metadata": {
        "id": "4GeDoW_Za0fz"
      },
      "outputs": [],
      "source": [
        "# One hot encoding for categorical columns\n",
        "# Name your final dataframe df 2\n",
        "\n",
        "# Your code here\n",
        "categorical_cols = ['InternetService','Contract','PaymentMethod']\n",
        "\n",
        "df2 = pd.get_dummies(df, columns=categorical_cols)"
      ]
    },
    {
      "cell_type": "code",
      "execution_count": 9,
      "metadata": {
        "id": "HgDAFheB56xz"
      },
      "outputs": [],
      "source": [
        "# Scaling\n",
        "cols_to_scale = ['tenure','MonthlyCharges','TotalCharges']\n",
        "\n",
        "from sklearn.preprocessing import MinMaxScaler\n",
        "scaler = MinMaxScaler()\n",
        "df2[cols_to_scale] = scaler.fit_transform(df2[cols_to_scale])"
      ]
    },
    {
      "cell_type": "markdown",
      "metadata": {
        "id": "aFnDhUR26pU2"
      },
      "source": [
        "e) [1 pt] Split the dataset into training and test using a 80-20 split with a random state of 15. Perform stratified sampling on the target variable while doing so. Split the training data further into training (80%) and validation sets (20%) with a random state of 15. Perform stratified sampling on the target variable while doing so.\n",
        "\n",
        "Note: The 'stratify' parameter can be used for this in the train_test_split function. "
      ]
    },
    {
      "cell_type": "code",
      "execution_count": 10,
      "metadata": {
        "id": "tLz3bC3m6dkM"
      },
      "outputs": [],
      "source": [
        "# Train test split\n",
        "X = df2.drop('Churn', axis=1)\n",
        "y = df2['Churn']\n",
        "X_train, X_test, y_train, y_test = train_test_split(X, y, test_size=0.2, random_state=15,stratify=y)\n",
        "X_train, X_valid, y_train, y_valid = train_test_split(X_train, y_train, test_size=0.2, random_state=15,stratify=y_train)"
      ]
    },
    {
      "cell_type": "code",
      "execution_count": 11,
      "metadata": {
        "id": "2KuUiJVq7VhD"
      },
      "outputs": [
        {
          "name": "stdout",
          "output_type": "stream",
          "text": [
            "Churn occurences in the training set \n",
            " 0    3304\n",
            "1    1196\n",
            "Name: Churn, dtype: int64\n",
            "\n",
            "\n",
            "Churn occurences throughout the data \n",
            " 0    5163\n",
            "1    1869\n",
            "Name: Churn, dtype: int64\n"
          ]
        }
      ],
      "source": [
        "# With samples corresponding to the positive class being very low, we can clearly see the imbalance in our data \n",
        "print('Churn occurences in the training set \\n', y_train.value_counts())\n",
        "print('\\n')\n",
        "print('Churn occurences throughout the data \\n', y.value_counts())"
      ]
    },
    {
      "cell_type": "markdown",
      "metadata": {
        "id": "ZJrYJVxT7-1d"
      },
      "source": []
    },
    {
      "cell_type": "markdown",
      "metadata": {
        "id": "kjAYHG1QK6TI"
      },
      "source": [
        "## [15 points] Decision Trees, Logistic Regression, and MLP\n",
        "\n",
        "Use the example provided [here](https://scikit-learn.org/stable/modules/tree.html) to get an idea of how to use sklearn's decision tree classifier.\n",
        "\n",
        "Go through the documentation [here](https://scikit-learn.org/0.16/modules/generated/sklearn.linear_model.LogisticRegression.html) to understand how to use sklearn's logistic regression model.\n",
        "\n",
        "Go through the documentation [here](https://scikit-learn.org/stable/modules/generated/sklearn.neural_network.MLPClassifier.html) to understand how to use sklearn's MLP Model."
      ]
    },
    {
      "cell_type": "markdown",
      "metadata": {
        "id": "-iheftYk8TOj"
      },
      "source": [
        "(a) [5 pts (+5 bonus points)] Train the three classifiers on the dataset and print confusion matrix on both - the validation data as well as the test data for all the three models (you can either use default parameters for MLP classifier or change them to obtain higher performance for additional bonus of 5 points). <br>\n",
        "(b) [5 pts] Plot the ROC Curves for all the three classifiers in a single graph and display the AUC-ROC scores for all the classifiers in this plot as well. Use both the validation and the test data to plot these curves as well as to calculate the AUC-ROC scores. Use one graph for validation data and one graph for test data (all models for validation data in one graph and all models for test data in one graph - and use this scheme for plotting in all subsequent plotting questions). <br>\n",
        "(c) [5 pts] Plot the Precision-Recall curves for all the three classifiers in a single graph. Use both the validation and the test data to plot these curves. Use one graph for validation data and one graph for test data.\n",
        "\n",
        "Helpful resources can be found here - \n",
        "1. [sklearn.tree.DecisionTreeClassifier.score](https://github.com/scikit-learn/scikit-learn/blob/37ac6788c/sklearn/base.py#L625)\n",
        "2.  [sklearn.linear_model.LogisticRegression.score](https://github.com/scikit-learn/scikit-learn/blob/37ac6788c/sklearn/base.py#L625)\n",
        "3. [sklearn.neutral_network.MLPClassifier.score](https://github.com/scikit-learn/scikit-learn/blob/36958fb24/sklearn/base.py#L640)\n",
        "4. [sklearn.metrics.plot_roc_curve](https://scikit-learn.org/stable/modules/generated/sklearn.metrics.plot_roc_curve.html)\n",
        "5. [sklearn.metrics_confusion_matrix](https://scikit-learn.org/stable/modules/generated/sklearn.metrics.confusion_matrix.html)\n",
        "\n",
        "Note: In this question, we are using the default parameters for MLP classifier, but you can change these parameters to obtain higher accuracies. **For a bonus of 5 points, experiment with these parameters to obtain a higher performance (in terms of accuracy and AUC-ROC scores).**"
      ]
    },
    {
      "cell_type": "code",
      "execution_count": 12,
      "metadata": {
        "id": "sHZzMovL7a_g"
      },
      "outputs": [
        {
          "name": "stdout",
          "output_type": "stream",
          "text": [
            "Validation Confusion Matrix:\n",
            "[[652 174]\n",
            " [149 150]]\n",
            "Validation Accuracy: 0.7129\n",
            "Test Confusion Matrix:\n",
            "[[836 197]\n",
            " [197 177]]\n",
            "Test Accuracy: 0.72\n"
          ]
        }
      ],
      "source": [
        "# Decision Tree Classifier\n",
        "from sklearn import tree\n",
        "from sklearn.metrics import confusion_matrix\n",
        "\n",
        "# Answer here\n",
        "clf = tree.DecisionTreeClassifier(random_state=15)\n",
        "clf = clf.fit(X_train, y_train)\n",
        "#Validation Confusion Matrix\n",
        "y_valid_pred = clf.predict(X_valid)\n",
        "print('Validation Confusion Matrix:')\n",
        "print(confusion_matrix(y_valid, y_valid_pred))\n",
        "print('Validation Accuracy:', round(metrics.accuracy_score(y_valid, y_valid_pred),4))\n",
        "#Test Confusion Matrix\n",
        "y_test_pred = clf.predict(X_test)\n",
        "print('Test Confusion Matrix:')\n",
        "print(confusion_matrix(y_test, y_test_pred))\n",
        "print('Test Accuracy:', round(metrics.accuracy_score(y_test, y_test_pred),4))"
      ]
    },
    {
      "cell_type": "code",
      "execution_count": 13,
      "metadata": {
        "id": "vY-24CyV-fqa"
      },
      "outputs": [
        {
          "name": "stdout",
          "output_type": "stream",
          "text": [
            "Validation Confusion Matrix:\n",
            "[[734  92]\n",
            " [143 156]]\n",
            "Validation Accuracy: 0.7911\n",
            "Test Confusion Matrix:\n",
            "[[929 104]\n",
            " [170 204]]\n",
            "Test Accuracy: 0.8053\n"
          ]
        }
      ],
      "source": [
        "# Logistic Regression\n",
        "from sklearn.linear_model import LogisticRegression\n",
        "# Answer here\n",
        "log_mod = LogisticRegression()\n",
        "log_mod.fit(X_train, y_train)\n",
        "#Validation Confusion Matrix\n",
        "y_valid_pred = log_mod.predict(X_valid)\n",
        "print('Validation Confusion Matrix:')\n",
        "print(confusion_matrix(y_valid, y_valid_pred))\n",
        "print('Validation Accuracy:', round(metrics.accuracy_score(y_valid, y_valid_pred),4))\n",
        "#Test Confusion Matrix\n",
        "y_test_pred = log_mod.predict(X_test)\n",
        "print('Test Confusion Matrix:')\n",
        "print(confusion_matrix(y_test, y_test_pred))\n",
        "print('Test Accuracy:', round(metrics.accuracy_score(y_test, y_test_pred),4))"
      ]
    },
    {
      "cell_type": "code",
      "execution_count": 14,
      "metadata": {
        "id": "z6jXS15--y2G"
      },
      "outputs": [
        {
          "name": "stdout",
          "output_type": "stream",
          "text": [
            "Original Validation Confusion Matrix:\n",
            "[[699 127]\n",
            " [126 173]]\n",
            "Original Validation Accuracy: 0.7751\n",
            "Original Test Confusion Matrix:\n",
            "[[896 137]\n",
            " [165 209]]\n",
            "Original Test Accuracy: 0.7854\n"
          ]
        }
      ],
      "source": [
        "# MLP Classifier\n",
        "from sklearn.neural_network import MLPClassifier\n",
        "# Answer here\n",
        "mlp_orig = MLPClassifier(random_state=15)\n",
        "mlp_orig.fit(X_train, y_train)\n",
        "#Validation Confusion Matrix\n",
        "y_valid_pred = mlp_orig.predict(X_valid)\n",
        "print('Original Validation Confusion Matrix:')\n",
        "print(confusion_matrix(y_valid, y_valid_pred))\n",
        "print('Original Validation Accuracy:', round(metrics.accuracy_score(y_valid, y_valid_pred),4))\n",
        "#Test Confusion Matrix\n",
        "y_test_pred = mlp_orig.predict(X_test)\n",
        "print('Original Test Confusion Matrix:')\n",
        "print(confusion_matrix(y_test, y_test_pred))\n",
        "print('Original Test Accuracy:', round(metrics.accuracy_score(y_test, y_test_pred),4))"
      ]
    },
    {
      "cell_type": "markdown",
      "metadata": {},
      "source": [
        "## EXTRA CREDIT - Tuning MLP Parameters"
      ]
    },
    {
      "cell_type": "code",
      "execution_count": 15,
      "metadata": {},
      "outputs": [
        {
          "name": "stderr",
          "output_type": "stream",
          "text": [
            "/Users/prlewis/opt/anaconda3/lib/python3.9/site-packages/sklearn/neural_network/_multilayer_perceptron.py:702: ConvergenceWarning: Stochastic Optimizer: Maximum iterations (200) reached and the optimization hasn't converged yet.\n",
            "  warnings.warn(\n",
            "/Users/prlewis/opt/anaconda3/lib/python3.9/site-packages/sklearn/neural_network/_multilayer_perceptron.py:702: ConvergenceWarning: Stochastic Optimizer: Maximum iterations (200) reached and the optimization hasn't converged yet.\n",
            "  warnings.warn(\n",
            "/Users/prlewis/opt/anaconda3/lib/python3.9/site-packages/sklearn/neural_network/_multilayer_perceptron.py:702: ConvergenceWarning: Stochastic Optimizer: Maximum iterations (200) reached and the optimization hasn't converged yet.\n",
            "  warnings.warn(\n",
            "/Users/prlewis/opt/anaconda3/lib/python3.9/site-packages/sklearn/neural_network/_multilayer_perceptron.py:702: ConvergenceWarning: Stochastic Optimizer: Maximum iterations (200) reached and the optimization hasn't converged yet.\n",
            "  warnings.warn(\n",
            "/Users/prlewis/opt/anaconda3/lib/python3.9/site-packages/sklearn/neural_network/_multilayer_perceptron.py:702: ConvergenceWarning: Stochastic Optimizer: Maximum iterations (200) reached and the optimization hasn't converged yet.\n",
            "  warnings.warn(\n",
            "/Users/prlewis/opt/anaconda3/lib/python3.9/site-packages/sklearn/neural_network/_multilayer_perceptron.py:702: ConvergenceWarning: Stochastic Optimizer: Maximum iterations (200) reached and the optimization hasn't converged yet.\n",
            "  warnings.warn(\n",
            "/Users/prlewis/opt/anaconda3/lib/python3.9/site-packages/sklearn/neural_network/_multilayer_perceptron.py:702: ConvergenceWarning: Stochastic Optimizer: Maximum iterations (200) reached and the optimization hasn't converged yet.\n",
            "  warnings.warn(\n",
            "/Users/prlewis/opt/anaconda3/lib/python3.9/site-packages/sklearn/neural_network/_multilayer_perceptron.py:702: ConvergenceWarning: Stochastic Optimizer: Maximum iterations (200) reached and the optimization hasn't converged yet.\n",
            "  warnings.warn(\n",
            "/Users/prlewis/opt/anaconda3/lib/python3.9/site-packages/sklearn/neural_network/_multilayer_perceptron.py:702: ConvergenceWarning: Stochastic Optimizer: Maximum iterations (200) reached and the optimization hasn't converged yet.\n",
            "  warnings.warn(\n",
            "/Users/prlewis/opt/anaconda3/lib/python3.9/site-packages/sklearn/neural_network/_multilayer_perceptron.py:702: ConvergenceWarning: Stochastic Optimizer: Maximum iterations (200) reached and the optimization hasn't converged yet.\n",
            "  warnings.warn(\n",
            "/Users/prlewis/opt/anaconda3/lib/python3.9/site-packages/sklearn/neural_network/_multilayer_perceptron.py:702: ConvergenceWarning: Stochastic Optimizer: Maximum iterations (200) reached and the optimization hasn't converged yet.\n",
            "  warnings.warn(\n",
            "/Users/prlewis/opt/anaconda3/lib/python3.9/site-packages/sklearn/neural_network/_multilayer_perceptron.py:702: ConvergenceWarning: Stochastic Optimizer: Maximum iterations (200) reached and the optimization hasn't converged yet.\n",
            "  warnings.warn(\n",
            "/Users/prlewis/opt/anaconda3/lib/python3.9/site-packages/sklearn/neural_network/_multilayer_perceptron.py:702: ConvergenceWarning: Stochastic Optimizer: Maximum iterations (200) reached and the optimization hasn't converged yet.\n",
            "  warnings.warn(\n",
            "/Users/prlewis/opt/anaconda3/lib/python3.9/site-packages/sklearn/neural_network/_multilayer_perceptron.py:702: ConvergenceWarning: Stochastic Optimizer: Maximum iterations (200) reached and the optimization hasn't converged yet.\n",
            "  warnings.warn(\n",
            "/Users/prlewis/opt/anaconda3/lib/python3.9/site-packages/sklearn/neural_network/_multilayer_perceptron.py:702: ConvergenceWarning: Stochastic Optimizer: Maximum iterations (200) reached and the optimization hasn't converged yet.\n",
            "  warnings.warn(\n",
            "/Users/prlewis/opt/anaconda3/lib/python3.9/site-packages/sklearn/neural_network/_multilayer_perceptron.py:702: ConvergenceWarning: Stochastic Optimizer: Maximum iterations (200) reached and the optimization hasn't converged yet.\n",
            "  warnings.warn(\n",
            "/Users/prlewis/opt/anaconda3/lib/python3.9/site-packages/sklearn/neural_network/_multilayer_perceptron.py:702: ConvergenceWarning: Stochastic Optimizer: Maximum iterations (200) reached and the optimization hasn't converged yet.\n",
            "  warnings.warn(\n",
            "/Users/prlewis/opt/anaconda3/lib/python3.9/site-packages/sklearn/neural_network/_multilayer_perceptron.py:702: ConvergenceWarning: Stochastic Optimizer: Maximum iterations (200) reached and the optimization hasn't converged yet.\n",
            "  warnings.warn(\n",
            "/Users/prlewis/opt/anaconda3/lib/python3.9/site-packages/sklearn/neural_network/_multilayer_perceptron.py:702: ConvergenceWarning: Stochastic Optimizer: Maximum iterations (200) reached and the optimization hasn't converged yet.\n",
            "  warnings.warn(\n",
            "/Users/prlewis/opt/anaconda3/lib/python3.9/site-packages/sklearn/neural_network/_multilayer_perceptron.py:702: ConvergenceWarning: Stochastic Optimizer: Maximum iterations (200) reached and the optimization hasn't converged yet.\n",
            "  warnings.warn(\n",
            "/Users/prlewis/opt/anaconda3/lib/python3.9/site-packages/sklearn/neural_network/_multilayer_perceptron.py:702: ConvergenceWarning: Stochastic Optimizer: Maximum iterations (200) reached and the optimization hasn't converged yet.\n",
            "  warnings.warn(\n",
            "/Users/prlewis/opt/anaconda3/lib/python3.9/site-packages/sklearn/neural_network/_multilayer_perceptron.py:702: ConvergenceWarning: Stochastic Optimizer: Maximum iterations (200) reached and the optimization hasn't converged yet.\n",
            "  warnings.warn(\n",
            "/Users/prlewis/opt/anaconda3/lib/python3.9/site-packages/sklearn/neural_network/_multilayer_perceptron.py:702: ConvergenceWarning: Stochastic Optimizer: Maximum iterations (200) reached and the optimization hasn't converged yet.\n",
            "  warnings.warn(\n",
            "/Users/prlewis/opt/anaconda3/lib/python3.9/site-packages/sklearn/neural_network/_multilayer_perceptron.py:702: ConvergenceWarning: Stochastic Optimizer: Maximum iterations (200) reached and the optimization hasn't converged yet.\n",
            "  warnings.warn(\n",
            "/Users/prlewis/opt/anaconda3/lib/python3.9/site-packages/sklearn/neural_network/_multilayer_perceptron.py:702: ConvergenceWarning: Stochastic Optimizer: Maximum iterations (200) reached and the optimization hasn't converged yet.\n",
            "  warnings.warn(\n",
            "/Users/prlewis/opt/anaconda3/lib/python3.9/site-packages/sklearn/neural_network/_multilayer_perceptron.py:702: ConvergenceWarning: Stochastic Optimizer: Maximum iterations (200) reached and the optimization hasn't converged yet.\n",
            "  warnings.warn(\n",
            "/Users/prlewis/opt/anaconda3/lib/python3.9/site-packages/sklearn/neural_network/_multilayer_perceptron.py:702: ConvergenceWarning: Stochastic Optimizer: Maximum iterations (200) reached and the optimization hasn't converged yet.\n",
            "  warnings.warn(\n",
            "/Users/prlewis/opt/anaconda3/lib/python3.9/site-packages/sklearn/neural_network/_multilayer_perceptron.py:702: ConvergenceWarning: Stochastic Optimizer: Maximum iterations (200) reached and the optimization hasn't converged yet.\n",
            "  warnings.warn(\n",
            "/Users/prlewis/opt/anaconda3/lib/python3.9/site-packages/sklearn/neural_network/_multilayer_perceptron.py:702: ConvergenceWarning: Stochastic Optimizer: Maximum iterations (200) reached and the optimization hasn't converged yet.\n",
            "  warnings.warn(\n",
            "/Users/prlewis/opt/anaconda3/lib/python3.9/site-packages/sklearn/neural_network/_multilayer_perceptron.py:702: ConvergenceWarning: Stochastic Optimizer: Maximum iterations (200) reached and the optimization hasn't converged yet.\n",
            "  warnings.warn(\n",
            "/Users/prlewis/opt/anaconda3/lib/python3.9/site-packages/sklearn/neural_network/_multilayer_perceptron.py:702: ConvergenceWarning: Stochastic Optimizer: Maximum iterations (200) reached and the optimization hasn't converged yet.\n",
            "  warnings.warn(\n",
            "/Users/prlewis/opt/anaconda3/lib/python3.9/site-packages/sklearn/neural_network/_multilayer_perceptron.py:702: ConvergenceWarning: Stochastic Optimizer: Maximum iterations (200) reached and the optimization hasn't converged yet.\n",
            "  warnings.warn(\n",
            "/Users/prlewis/opt/anaconda3/lib/python3.9/site-packages/sklearn/neural_network/_multilayer_perceptron.py:702: ConvergenceWarning: Stochastic Optimizer: Maximum iterations (200) reached and the optimization hasn't converged yet.\n",
            "  warnings.warn(\n",
            "/Users/prlewis/opt/anaconda3/lib/python3.9/site-packages/sklearn/neural_network/_multilayer_perceptron.py:702: ConvergenceWarning: Stochastic Optimizer: Maximum iterations (200) reached and the optimization hasn't converged yet.\n",
            "  warnings.warn(\n",
            "/Users/prlewis/opt/anaconda3/lib/python3.9/site-packages/sklearn/neural_network/_multilayer_perceptron.py:702: ConvergenceWarning: Stochastic Optimizer: Maximum iterations (200) reached and the optimization hasn't converged yet.\n",
            "  warnings.warn(\n",
            "/Users/prlewis/opt/anaconda3/lib/python3.9/site-packages/sklearn/neural_network/_multilayer_perceptron.py:702: ConvergenceWarning: Stochastic Optimizer: Maximum iterations (200) reached and the optimization hasn't converged yet.\n",
            "  warnings.warn(\n",
            "/Users/prlewis/opt/anaconda3/lib/python3.9/site-packages/sklearn/neural_network/_multilayer_perceptron.py:702: ConvergenceWarning: Stochastic Optimizer: Maximum iterations (200) reached and the optimization hasn't converged yet.\n",
            "  warnings.warn(\n",
            "/Users/prlewis/opt/anaconda3/lib/python3.9/site-packages/sklearn/neural_network/_multilayer_perceptron.py:702: ConvergenceWarning: Stochastic Optimizer: Maximum iterations (200) reached and the optimization hasn't converged yet.\n",
            "  warnings.warn(\n",
            "/Users/prlewis/opt/anaconda3/lib/python3.9/site-packages/sklearn/neural_network/_multilayer_perceptron.py:702: ConvergenceWarning: Stochastic Optimizer: Maximum iterations (200) reached and the optimization hasn't converged yet.\n",
            "  warnings.warn(\n",
            "/Users/prlewis/opt/anaconda3/lib/python3.9/site-packages/sklearn/neural_network/_multilayer_perceptron.py:702: ConvergenceWarning: Stochastic Optimizer: Maximum iterations (200) reached and the optimization hasn't converged yet.\n",
            "  warnings.warn(\n",
            "/Users/prlewis/opt/anaconda3/lib/python3.9/site-packages/sklearn/neural_network/_multilayer_perceptron.py:702: ConvergenceWarning: Stochastic Optimizer: Maximum iterations (200) reached and the optimization hasn't converged yet.\n",
            "  warnings.warn(\n",
            "/Users/prlewis/opt/anaconda3/lib/python3.9/site-packages/sklearn/neural_network/_multilayer_perceptron.py:702: ConvergenceWarning: Stochastic Optimizer: Maximum iterations (200) reached and the optimization hasn't converged yet.\n",
            "  warnings.warn(\n",
            "/Users/prlewis/opt/anaconda3/lib/python3.9/site-packages/sklearn/neural_network/_multilayer_perceptron.py:702: ConvergenceWarning: Stochastic Optimizer: Maximum iterations (200) reached and the optimization hasn't converged yet.\n",
            "  warnings.warn(\n",
            "/Users/prlewis/opt/anaconda3/lib/python3.9/site-packages/sklearn/neural_network/_multilayer_perceptron.py:702: ConvergenceWarning: Stochastic Optimizer: Maximum iterations (200) reached and the optimization hasn't converged yet.\n",
            "  warnings.warn(\n",
            "/Users/prlewis/opt/anaconda3/lib/python3.9/site-packages/sklearn/neural_network/_multilayer_perceptron.py:702: ConvergenceWarning: Stochastic Optimizer: Maximum iterations (200) reached and the optimization hasn't converged yet.\n",
            "  warnings.warn(\n",
            "/Users/prlewis/opt/anaconda3/lib/python3.9/site-packages/sklearn/neural_network/_multilayer_perceptron.py:702: ConvergenceWarning: Stochastic Optimizer: Maximum iterations (200) reached and the optimization hasn't converged yet.\n",
            "  warnings.warn(\n",
            "/Users/prlewis/opt/anaconda3/lib/python3.9/site-packages/sklearn/neural_network/_multilayer_perceptron.py:702: ConvergenceWarning: Stochastic Optimizer: Maximum iterations (200) reached and the optimization hasn't converged yet.\n",
            "  warnings.warn(\n",
            "/Users/prlewis/opt/anaconda3/lib/python3.9/site-packages/sklearn/neural_network/_multilayer_perceptron.py:702: ConvergenceWarning: Stochastic Optimizer: Maximum iterations (200) reached and the optimization hasn't converged yet.\n",
            "  warnings.warn(\n",
            "/Users/prlewis/opt/anaconda3/lib/python3.9/site-packages/sklearn/neural_network/_multilayer_perceptron.py:702: ConvergenceWarning: Stochastic Optimizer: Maximum iterations (200) reached and the optimization hasn't converged yet.\n",
            "  warnings.warn(\n",
            "/Users/prlewis/opt/anaconda3/lib/python3.9/site-packages/sklearn/neural_network/_multilayer_perceptron.py:702: ConvergenceWarning: Stochastic Optimizer: Maximum iterations (200) reached and the optimization hasn't converged yet.\n",
            "  warnings.warn(\n",
            "/Users/prlewis/opt/anaconda3/lib/python3.9/site-packages/sklearn/neural_network/_multilayer_perceptron.py:702: ConvergenceWarning: Stochastic Optimizer: Maximum iterations (200) reached and the optimization hasn't converged yet.\n",
            "  warnings.warn(\n",
            "/Users/prlewis/opt/anaconda3/lib/python3.9/site-packages/sklearn/neural_network/_multilayer_perceptron.py:702: ConvergenceWarning: Stochastic Optimizer: Maximum iterations (200) reached and the optimization hasn't converged yet.\n",
            "  warnings.warn(\n",
            "/Users/prlewis/opt/anaconda3/lib/python3.9/site-packages/sklearn/neural_network/_multilayer_perceptron.py:702: ConvergenceWarning: Stochastic Optimizer: Maximum iterations (200) reached and the optimization hasn't converged yet.\n",
            "  warnings.warn(\n",
            "/Users/prlewis/opt/anaconda3/lib/python3.9/site-packages/sklearn/neural_network/_multilayer_perceptron.py:702: ConvergenceWarning: Stochastic Optimizer: Maximum iterations (200) reached and the optimization hasn't converged yet.\n",
            "  warnings.warn(\n",
            "/Users/prlewis/opt/anaconda3/lib/python3.9/site-packages/sklearn/neural_network/_multilayer_perceptron.py:702: ConvergenceWarning: Stochastic Optimizer: Maximum iterations (200) reached and the optimization hasn't converged yet.\n",
            "  warnings.warn(\n",
            "/Users/prlewis/opt/anaconda3/lib/python3.9/site-packages/sklearn/neural_network/_multilayer_perceptron.py:702: ConvergenceWarning: Stochastic Optimizer: Maximum iterations (200) reached and the optimization hasn't converged yet.\n",
            "  warnings.warn(\n",
            "/Users/prlewis/opt/anaconda3/lib/python3.9/site-packages/sklearn/neural_network/_multilayer_perceptron.py:702: ConvergenceWarning: Stochastic Optimizer: Maximum iterations (200) reached and the optimization hasn't converged yet.\n",
            "  warnings.warn(\n",
            "/Users/prlewis/opt/anaconda3/lib/python3.9/site-packages/sklearn/neural_network/_multilayer_perceptron.py:702: ConvergenceWarning: Stochastic Optimizer: Maximum iterations (200) reached and the optimization hasn't converged yet.\n",
            "  warnings.warn(\n",
            "/Users/prlewis/opt/anaconda3/lib/python3.9/site-packages/sklearn/neural_network/_multilayer_perceptron.py:702: ConvergenceWarning: Stochastic Optimizer: Maximum iterations (200) reached and the optimization hasn't converged yet.\n",
            "  warnings.warn(\n",
            "/Users/prlewis/opt/anaconda3/lib/python3.9/site-packages/sklearn/neural_network/_multilayer_perceptron.py:702: ConvergenceWarning: Stochastic Optimizer: Maximum iterations (200) reached and the optimization hasn't converged yet.\n",
            "  warnings.warn(\n",
            "/Users/prlewis/opt/anaconda3/lib/python3.9/site-packages/sklearn/neural_network/_multilayer_perceptron.py:702: ConvergenceWarning: Stochastic Optimizer: Maximum iterations (200) reached and the optimization hasn't converged yet.\n",
            "  warnings.warn(\n",
            "/Users/prlewis/opt/anaconda3/lib/python3.9/site-packages/sklearn/neural_network/_multilayer_perceptron.py:702: ConvergenceWarning: Stochastic Optimizer: Maximum iterations (200) reached and the optimization hasn't converged yet.\n",
            "  warnings.warn(\n",
            "/Users/prlewis/opt/anaconda3/lib/python3.9/site-packages/sklearn/neural_network/_multilayer_perceptron.py:702: ConvergenceWarning: Stochastic Optimizer: Maximum iterations (200) reached and the optimization hasn't converged yet.\n",
            "  warnings.warn(\n",
            "/Users/prlewis/opt/anaconda3/lib/python3.9/site-packages/sklearn/neural_network/_multilayer_perceptron.py:702: ConvergenceWarning: Stochastic Optimizer: Maximum iterations (200) reached and the optimization hasn't converged yet.\n",
            "  warnings.warn(\n",
            "/Users/prlewis/opt/anaconda3/lib/python3.9/site-packages/sklearn/neural_network/_multilayer_perceptron.py:702: ConvergenceWarning: Stochastic Optimizer: Maximum iterations (200) reached and the optimization hasn't converged yet.\n",
            "  warnings.warn(\n",
            "/Users/prlewis/opt/anaconda3/lib/python3.9/site-packages/sklearn/neural_network/_multilayer_perceptron.py:702: ConvergenceWarning: Stochastic Optimizer: Maximum iterations (200) reached and the optimization hasn't converged yet.\n",
            "  warnings.warn(\n",
            "/Users/prlewis/opt/anaconda3/lib/python3.9/site-packages/sklearn/neural_network/_multilayer_perceptron.py:702: ConvergenceWarning: Stochastic Optimizer: Maximum iterations (200) reached and the optimization hasn't converged yet.\n",
            "  warnings.warn(\n",
            "/Users/prlewis/opt/anaconda3/lib/python3.9/site-packages/sklearn/neural_network/_multilayer_perceptron.py:702: ConvergenceWarning: Stochastic Optimizer: Maximum iterations (200) reached and the optimization hasn't converged yet.\n",
            "  warnings.warn(\n",
            "/Users/prlewis/opt/anaconda3/lib/python3.9/site-packages/sklearn/neural_network/_multilayer_perceptron.py:702: ConvergenceWarning: Stochastic Optimizer: Maximum iterations (200) reached and the optimization hasn't converged yet.\n",
            "  warnings.warn(\n",
            "/Users/prlewis/opt/anaconda3/lib/python3.9/site-packages/sklearn/neural_network/_multilayer_perceptron.py:702: ConvergenceWarning: Stochastic Optimizer: Maximum iterations (200) reached and the optimization hasn't converged yet.\n",
            "  warnings.warn(\n",
            "/Users/prlewis/opt/anaconda3/lib/python3.9/site-packages/sklearn/neural_network/_multilayer_perceptron.py:702: ConvergenceWarning: Stochastic Optimizer: Maximum iterations (200) reached and the optimization hasn't converged yet.\n",
            "  warnings.warn(\n",
            "/Users/prlewis/opt/anaconda3/lib/python3.9/site-packages/sklearn/neural_network/_multilayer_perceptron.py:702: ConvergenceWarning: Stochastic Optimizer: Maximum iterations (200) reached and the optimization hasn't converged yet.\n",
            "  warnings.warn(\n",
            "/Users/prlewis/opt/anaconda3/lib/python3.9/site-packages/sklearn/neural_network/_multilayer_perceptron.py:702: ConvergenceWarning: Stochastic Optimizer: Maximum iterations (200) reached and the optimization hasn't converged yet.\n",
            "  warnings.warn(\n",
            "/Users/prlewis/opt/anaconda3/lib/python3.9/site-packages/sklearn/neural_network/_multilayer_perceptron.py:702: ConvergenceWarning: Stochastic Optimizer: Maximum iterations (200) reached and the optimization hasn't converged yet.\n",
            "  warnings.warn(\n",
            "/Users/prlewis/opt/anaconda3/lib/python3.9/site-packages/sklearn/neural_network/_multilayer_perceptron.py:702: ConvergenceWarning: Stochastic Optimizer: Maximum iterations (200) reached and the optimization hasn't converged yet.\n",
            "  warnings.warn(\n",
            "/Users/prlewis/opt/anaconda3/lib/python3.9/site-packages/sklearn/neural_network/_multilayer_perceptron.py:702: ConvergenceWarning: Stochastic Optimizer: Maximum iterations (200) reached and the optimization hasn't converged yet.\n",
            "  warnings.warn(\n",
            "/Users/prlewis/opt/anaconda3/lib/python3.9/site-packages/sklearn/neural_network/_multilayer_perceptron.py:702: ConvergenceWarning: Stochastic Optimizer: Maximum iterations (200) reached and the optimization hasn't converged yet.\n",
            "  warnings.warn(\n",
            "/Users/prlewis/opt/anaconda3/lib/python3.9/site-packages/sklearn/neural_network/_multilayer_perceptron.py:702: ConvergenceWarning: Stochastic Optimizer: Maximum iterations (200) reached and the optimization hasn't converged yet.\n",
            "  warnings.warn(\n",
            "/Users/prlewis/opt/anaconda3/lib/python3.9/site-packages/sklearn/neural_network/_multilayer_perceptron.py:702: ConvergenceWarning: Stochastic Optimizer: Maximum iterations (200) reached and the optimization hasn't converged yet.\n",
            "  warnings.warn(\n",
            "/Users/prlewis/opt/anaconda3/lib/python3.9/site-packages/sklearn/neural_network/_multilayer_perceptron.py:702: ConvergenceWarning: Stochastic Optimizer: Maximum iterations (200) reached and the optimization hasn't converged yet.\n",
            "  warnings.warn(\n",
            "/Users/prlewis/opt/anaconda3/lib/python3.9/site-packages/sklearn/neural_network/_multilayer_perceptron.py:702: ConvergenceWarning: Stochastic Optimizer: Maximum iterations (200) reached and the optimization hasn't converged yet.\n",
            "  warnings.warn(\n",
            "/Users/prlewis/opt/anaconda3/lib/python3.9/site-packages/sklearn/neural_network/_multilayer_perceptron.py:702: ConvergenceWarning: Stochastic Optimizer: Maximum iterations (200) reached and the optimization hasn't converged yet.\n",
            "  warnings.warn(\n",
            "/Users/prlewis/opt/anaconda3/lib/python3.9/site-packages/sklearn/neural_network/_multilayer_perceptron.py:702: ConvergenceWarning: Stochastic Optimizer: Maximum iterations (200) reached and the optimization hasn't converged yet.\n",
            "  warnings.warn(\n",
            "/Users/prlewis/opt/anaconda3/lib/python3.9/site-packages/sklearn/neural_network/_multilayer_perceptron.py:702: ConvergenceWarning: Stochastic Optimizer: Maximum iterations (200) reached and the optimization hasn't converged yet.\n",
            "  warnings.warn(\n",
            "/Users/prlewis/opt/anaconda3/lib/python3.9/site-packages/sklearn/neural_network/_multilayer_perceptron.py:702: ConvergenceWarning: Stochastic Optimizer: Maximum iterations (200) reached and the optimization hasn't converged yet.\n",
            "  warnings.warn(\n",
            "/Users/prlewis/opt/anaconda3/lib/python3.9/site-packages/sklearn/neural_network/_multilayer_perceptron.py:702: ConvergenceWarning: Stochastic Optimizer: Maximum iterations (200) reached and the optimization hasn't converged yet.\n",
            "  warnings.warn(\n",
            "/Users/prlewis/opt/anaconda3/lib/python3.9/site-packages/sklearn/neural_network/_multilayer_perceptron.py:702: ConvergenceWarning: Stochastic Optimizer: Maximum iterations (200) reached and the optimization hasn't converged yet.\n",
            "  warnings.warn(\n",
            "/Users/prlewis/opt/anaconda3/lib/python3.9/site-packages/sklearn/neural_network/_multilayer_perceptron.py:702: ConvergenceWarning: Stochastic Optimizer: Maximum iterations (200) reached and the optimization hasn't converged yet.\n",
            "  warnings.warn(\n",
            "/Users/prlewis/opt/anaconda3/lib/python3.9/site-packages/sklearn/neural_network/_multilayer_perceptron.py:702: ConvergenceWarning: Stochastic Optimizer: Maximum iterations (200) reached and the optimization hasn't converged yet.\n",
            "  warnings.warn(\n",
            "/Users/prlewis/opt/anaconda3/lib/python3.9/site-packages/sklearn/neural_network/_multilayer_perceptron.py:702: ConvergenceWarning: Stochastic Optimizer: Maximum iterations (200) reached and the optimization hasn't converged yet.\n",
            "  warnings.warn(\n",
            "/Users/prlewis/opt/anaconda3/lib/python3.9/site-packages/sklearn/neural_network/_multilayer_perceptron.py:702: ConvergenceWarning: Stochastic Optimizer: Maximum iterations (200) reached and the optimization hasn't converged yet.\n",
            "  warnings.warn(\n",
            "/Users/prlewis/opt/anaconda3/lib/python3.9/site-packages/sklearn/neural_network/_multilayer_perceptron.py:702: ConvergenceWarning: Stochastic Optimizer: Maximum iterations (200) reached and the optimization hasn't converged yet.\n",
            "  warnings.warn(\n",
            "/Users/prlewis/opt/anaconda3/lib/python3.9/site-packages/sklearn/neural_network/_multilayer_perceptron.py:702: ConvergenceWarning: Stochastic Optimizer: Maximum iterations (200) reached and the optimization hasn't converged yet.\n",
            "  warnings.warn(\n",
            "/Users/prlewis/opt/anaconda3/lib/python3.9/site-packages/sklearn/neural_network/_multilayer_perceptron.py:702: ConvergenceWarning: Stochastic Optimizer: Maximum iterations (200) reached and the optimization hasn't converged yet.\n",
            "  warnings.warn(\n",
            "/Users/prlewis/opt/anaconda3/lib/python3.9/site-packages/sklearn/neural_network/_multilayer_perceptron.py:702: ConvergenceWarning: Stochastic Optimizer: Maximum iterations (200) reached and the optimization hasn't converged yet.\n",
            "  warnings.warn(\n",
            "/Users/prlewis/opt/anaconda3/lib/python3.9/site-packages/sklearn/neural_network/_multilayer_perceptron.py:702: ConvergenceWarning: Stochastic Optimizer: Maximum iterations (200) reached and the optimization hasn't converged yet.\n",
            "  warnings.warn(\n",
            "/Users/prlewis/opt/anaconda3/lib/python3.9/site-packages/sklearn/neural_network/_multilayer_perceptron.py:702: ConvergenceWarning: Stochastic Optimizer: Maximum iterations (200) reached and the optimization hasn't converged yet.\n",
            "  warnings.warn(\n",
            "/Users/prlewis/opt/anaconda3/lib/python3.9/site-packages/sklearn/neural_network/_multilayer_perceptron.py:702: ConvergenceWarning: Stochastic Optimizer: Maximum iterations (200) reached and the optimization hasn't converged yet.\n",
            "  warnings.warn(\n",
            "/Users/prlewis/opt/anaconda3/lib/python3.9/site-packages/sklearn/neural_network/_multilayer_perceptron.py:702: ConvergenceWarning: Stochastic Optimizer: Maximum iterations (200) reached and the optimization hasn't converged yet.\n",
            "  warnings.warn(\n",
            "/Users/prlewis/opt/anaconda3/lib/python3.9/site-packages/sklearn/neural_network/_multilayer_perceptron.py:702: ConvergenceWarning: Stochastic Optimizer: Maximum iterations (200) reached and the optimization hasn't converged yet.\n",
            "  warnings.warn(\n",
            "/Users/prlewis/opt/anaconda3/lib/python3.9/site-packages/sklearn/neural_network/_multilayer_perceptron.py:702: ConvergenceWarning: Stochastic Optimizer: Maximum iterations (200) reached and the optimization hasn't converged yet.\n",
            "  warnings.warn(\n",
            "/Users/prlewis/opt/anaconda3/lib/python3.9/site-packages/sklearn/neural_network/_multilayer_perceptron.py:702: ConvergenceWarning: Stochastic Optimizer: Maximum iterations (200) reached and the optimization hasn't converged yet.\n",
            "  warnings.warn(\n",
            "/Users/prlewis/opt/anaconda3/lib/python3.9/site-packages/sklearn/neural_network/_multilayer_perceptron.py:702: ConvergenceWarning: Stochastic Optimizer: Maximum iterations (200) reached and the optimization hasn't converged yet.\n",
            "  warnings.warn(\n",
            "/Users/prlewis/opt/anaconda3/lib/python3.9/site-packages/sklearn/neural_network/_multilayer_perceptron.py:702: ConvergenceWarning: Stochastic Optimizer: Maximum iterations (200) reached and the optimization hasn't converged yet.\n",
            "  warnings.warn(\n",
            "/Users/prlewis/opt/anaconda3/lib/python3.9/site-packages/sklearn/neural_network/_multilayer_perceptron.py:702: ConvergenceWarning: Stochastic Optimizer: Maximum iterations (200) reached and the optimization hasn't converged yet.\n",
            "  warnings.warn(\n",
            "/Users/prlewis/opt/anaconda3/lib/python3.9/site-packages/sklearn/neural_network/_multilayer_perceptron.py:702: ConvergenceWarning: Stochastic Optimizer: Maximum iterations (200) reached and the optimization hasn't converged yet.\n",
            "  warnings.warn(\n",
            "/Users/prlewis/opt/anaconda3/lib/python3.9/site-packages/sklearn/neural_network/_multilayer_perceptron.py:702: ConvergenceWarning: Stochastic Optimizer: Maximum iterations (200) reached and the optimization hasn't converged yet.\n",
            "  warnings.warn(\n",
            "/Users/prlewis/opt/anaconda3/lib/python3.9/site-packages/sklearn/neural_network/_multilayer_perceptron.py:702: ConvergenceWarning: Stochastic Optimizer: Maximum iterations (200) reached and the optimization hasn't converged yet.\n",
            "  warnings.warn(\n",
            "/Users/prlewis/opt/anaconda3/lib/python3.9/site-packages/sklearn/neural_network/_multilayer_perceptron.py:702: ConvergenceWarning: Stochastic Optimizer: Maximum iterations (200) reached and the optimization hasn't converged yet.\n",
            "  warnings.warn(\n",
            "/Users/prlewis/opt/anaconda3/lib/python3.9/site-packages/sklearn/neural_network/_multilayer_perceptron.py:702: ConvergenceWarning: Stochastic Optimizer: Maximum iterations (200) reached and the optimization hasn't converged yet.\n",
            "  warnings.warn(\n",
            "/Users/prlewis/opt/anaconda3/lib/python3.9/site-packages/sklearn/neural_network/_multilayer_perceptron.py:702: ConvergenceWarning: Stochastic Optimizer: Maximum iterations (200) reached and the optimization hasn't converged yet.\n",
            "  warnings.warn(\n",
            "/Users/prlewis/opt/anaconda3/lib/python3.9/site-packages/sklearn/neural_network/_multilayer_perceptron.py:702: ConvergenceWarning: Stochastic Optimizer: Maximum iterations (200) reached and the optimization hasn't converged yet.\n",
            "  warnings.warn(\n",
            "/Users/prlewis/opt/anaconda3/lib/python3.9/site-packages/sklearn/neural_network/_multilayer_perceptron.py:702: ConvergenceWarning: Stochastic Optimizer: Maximum iterations (200) reached and the optimization hasn't converged yet.\n",
            "  warnings.warn(\n",
            "/Users/prlewis/opt/anaconda3/lib/python3.9/site-packages/sklearn/neural_network/_multilayer_perceptron.py:702: ConvergenceWarning: Stochastic Optimizer: Maximum iterations (200) reached and the optimization hasn't converged yet.\n",
            "  warnings.warn(\n",
            "/Users/prlewis/opt/anaconda3/lib/python3.9/site-packages/sklearn/neural_network/_multilayer_perceptron.py:702: ConvergenceWarning: Stochastic Optimizer: Maximum iterations (200) reached and the optimization hasn't converged yet.\n",
            "  warnings.warn(\n",
            "/Users/prlewis/opt/anaconda3/lib/python3.9/site-packages/sklearn/neural_network/_multilayer_perceptron.py:702: ConvergenceWarning: Stochastic Optimizer: Maximum iterations (200) reached and the optimization hasn't converged yet.\n",
            "  warnings.warn(\n",
            "/Users/prlewis/opt/anaconda3/lib/python3.9/site-packages/sklearn/neural_network/_multilayer_perceptron.py:702: ConvergenceWarning: Stochastic Optimizer: Maximum iterations (200) reached and the optimization hasn't converged yet.\n",
            "  warnings.warn(\n",
            "/Users/prlewis/opt/anaconda3/lib/python3.9/site-packages/sklearn/neural_network/_multilayer_perceptron.py:702: ConvergenceWarning: Stochastic Optimizer: Maximum iterations (200) reached and the optimization hasn't converged yet.\n",
            "  warnings.warn(\n",
            "/Users/prlewis/opt/anaconda3/lib/python3.9/site-packages/sklearn/neural_network/_multilayer_perceptron.py:702: ConvergenceWarning: Stochastic Optimizer: Maximum iterations (200) reached and the optimization hasn't converged yet.\n",
            "  warnings.warn(\n",
            "/Users/prlewis/opt/anaconda3/lib/python3.9/site-packages/sklearn/neural_network/_multilayer_perceptron.py:702: ConvergenceWarning: Stochastic Optimizer: Maximum iterations (200) reached and the optimization hasn't converged yet.\n",
            "  warnings.warn(\n",
            "/Users/prlewis/opt/anaconda3/lib/python3.9/site-packages/sklearn/neural_network/_multilayer_perceptron.py:702: ConvergenceWarning: Stochastic Optimizer: Maximum iterations (200) reached and the optimization hasn't converged yet.\n",
            "  warnings.warn(\n",
            "/Users/prlewis/opt/anaconda3/lib/python3.9/site-packages/sklearn/neural_network/_multilayer_perceptron.py:702: ConvergenceWarning: Stochastic Optimizer: Maximum iterations (200) reached and the optimization hasn't converged yet.\n",
            "  warnings.warn(\n",
            "/Users/prlewis/opt/anaconda3/lib/python3.9/site-packages/sklearn/neural_network/_multilayer_perceptron.py:702: ConvergenceWarning: Stochastic Optimizer: Maximum iterations (200) reached and the optimization hasn't converged yet.\n",
            "  warnings.warn(\n",
            "/Users/prlewis/opt/anaconda3/lib/python3.9/site-packages/sklearn/neural_network/_multilayer_perceptron.py:702: ConvergenceWarning: Stochastic Optimizer: Maximum iterations (200) reached and the optimization hasn't converged yet.\n",
            "  warnings.warn(\n",
            "/Users/prlewis/opt/anaconda3/lib/python3.9/site-packages/sklearn/neural_network/_multilayer_perceptron.py:702: ConvergenceWarning: Stochastic Optimizer: Maximum iterations (200) reached and the optimization hasn't converged yet.\n",
            "  warnings.warn(\n",
            "/Users/prlewis/opt/anaconda3/lib/python3.9/site-packages/sklearn/neural_network/_multilayer_perceptron.py:702: ConvergenceWarning: Stochastic Optimizer: Maximum iterations (200) reached and the optimization hasn't converged yet.\n",
            "  warnings.warn(\n",
            "/Users/prlewis/opt/anaconda3/lib/python3.9/site-packages/sklearn/neural_network/_multilayer_perceptron.py:702: ConvergenceWarning: Stochastic Optimizer: Maximum iterations (200) reached and the optimization hasn't converged yet.\n",
            "  warnings.warn(\n",
            "/Users/prlewis/opt/anaconda3/lib/python3.9/site-packages/sklearn/neural_network/_multilayer_perceptron.py:702: ConvergenceWarning: Stochastic Optimizer: Maximum iterations (200) reached and the optimization hasn't converged yet.\n",
            "  warnings.warn(\n",
            "/Users/prlewis/opt/anaconda3/lib/python3.9/site-packages/sklearn/neural_network/_multilayer_perceptron.py:702: ConvergenceWarning: Stochastic Optimizer: Maximum iterations (200) reached and the optimization hasn't converged yet.\n",
            "  warnings.warn(\n",
            "/Users/prlewis/opt/anaconda3/lib/python3.9/site-packages/sklearn/neural_network/_multilayer_perceptron.py:702: ConvergenceWarning: Stochastic Optimizer: Maximum iterations (200) reached and the optimization hasn't converged yet.\n",
            "  warnings.warn(\n",
            "/Users/prlewis/opt/anaconda3/lib/python3.9/site-packages/sklearn/neural_network/_multilayer_perceptron.py:702: ConvergenceWarning: Stochastic Optimizer: Maximum iterations (200) reached and the optimization hasn't converged yet.\n",
            "  warnings.warn(\n",
            "/Users/prlewis/opt/anaconda3/lib/python3.9/site-packages/sklearn/neural_network/_multilayer_perceptron.py:702: ConvergenceWarning: Stochastic Optimizer: Maximum iterations (200) reached and the optimization hasn't converged yet.\n",
            "  warnings.warn(\n",
            "/Users/prlewis/opt/anaconda3/lib/python3.9/site-packages/sklearn/neural_network/_multilayer_perceptron.py:702: ConvergenceWarning: Stochastic Optimizer: Maximum iterations (200) reached and the optimization hasn't converged yet.\n",
            "  warnings.warn(\n",
            "/Users/prlewis/opt/anaconda3/lib/python3.9/site-packages/sklearn/neural_network/_multilayer_perceptron.py:702: ConvergenceWarning: Stochastic Optimizer: Maximum iterations (200) reached and the optimization hasn't converged yet.\n",
            "  warnings.warn(\n",
            "/Users/prlewis/opt/anaconda3/lib/python3.9/site-packages/sklearn/neural_network/_multilayer_perceptron.py:702: ConvergenceWarning: Stochastic Optimizer: Maximum iterations (200) reached and the optimization hasn't converged yet.\n",
            "  warnings.warn(\n",
            "/Users/prlewis/opt/anaconda3/lib/python3.9/site-packages/sklearn/neural_network/_multilayer_perceptron.py:702: ConvergenceWarning: Stochastic Optimizer: Maximum iterations (200) reached and the optimization hasn't converged yet.\n",
            "  warnings.warn(\n",
            "/Users/prlewis/opt/anaconda3/lib/python3.9/site-packages/sklearn/neural_network/_multilayer_perceptron.py:702: ConvergenceWarning: Stochastic Optimizer: Maximum iterations (200) reached and the optimization hasn't converged yet.\n",
            "  warnings.warn(\n",
            "/Users/prlewis/opt/anaconda3/lib/python3.9/site-packages/sklearn/neural_network/_multilayer_perceptron.py:702: ConvergenceWarning: Stochastic Optimizer: Maximum iterations (200) reached and the optimization hasn't converged yet.\n",
            "  warnings.warn(\n",
            "/Users/prlewis/opt/anaconda3/lib/python3.9/site-packages/sklearn/neural_network/_multilayer_perceptron.py:702: ConvergenceWarning: Stochastic Optimizer: Maximum iterations (200) reached and the optimization hasn't converged yet.\n",
            "  warnings.warn(\n",
            "/Users/prlewis/opt/anaconda3/lib/python3.9/site-packages/sklearn/neural_network/_multilayer_perceptron.py:702: ConvergenceWarning: Stochastic Optimizer: Maximum iterations (200) reached and the optimization hasn't converged yet.\n",
            "  warnings.warn(\n",
            "/Users/prlewis/opt/anaconda3/lib/python3.9/site-packages/sklearn/neural_network/_multilayer_perceptron.py:702: ConvergenceWarning: Stochastic Optimizer: Maximum iterations (200) reached and the optimization hasn't converged yet.\n",
            "  warnings.warn(\n",
            "/Users/prlewis/opt/anaconda3/lib/python3.9/site-packages/sklearn/neural_network/_multilayer_perceptron.py:702: ConvergenceWarning: Stochastic Optimizer: Maximum iterations (200) reached and the optimization hasn't converged yet.\n",
            "  warnings.warn(\n",
            "/Users/prlewis/opt/anaconda3/lib/python3.9/site-packages/sklearn/neural_network/_multilayer_perceptron.py:702: ConvergenceWarning: Stochastic Optimizer: Maximum iterations (200) reached and the optimization hasn't converged yet.\n",
            "  warnings.warn(\n",
            "/Users/prlewis/opt/anaconda3/lib/python3.9/site-packages/sklearn/neural_network/_multilayer_perceptron.py:702: ConvergenceWarning: Stochastic Optimizer: Maximum iterations (200) reached and the optimization hasn't converged yet.\n",
            "  warnings.warn(\n",
            "/Users/prlewis/opt/anaconda3/lib/python3.9/site-packages/sklearn/neural_network/_multilayer_perceptron.py:702: ConvergenceWarning: Stochastic Optimizer: Maximum iterations (200) reached and the optimization hasn't converged yet.\n",
            "  warnings.warn(\n",
            "/Users/prlewis/opt/anaconda3/lib/python3.9/site-packages/sklearn/neural_network/_multilayer_perceptron.py:702: ConvergenceWarning: Stochastic Optimizer: Maximum iterations (200) reached and the optimization hasn't converged yet.\n",
            "  warnings.warn(\n",
            "/Users/prlewis/opt/anaconda3/lib/python3.9/site-packages/sklearn/neural_network/_multilayer_perceptron.py:702: ConvergenceWarning: Stochastic Optimizer: Maximum iterations (200) reached and the optimization hasn't converged yet.\n",
            "  warnings.warn(\n",
            "/Users/prlewis/opt/anaconda3/lib/python3.9/site-packages/sklearn/neural_network/_multilayer_perceptron.py:702: ConvergenceWarning: Stochastic Optimizer: Maximum iterations (200) reached and the optimization hasn't converged yet.\n",
            "  warnings.warn(\n",
            "/Users/prlewis/opt/anaconda3/lib/python3.9/site-packages/sklearn/neural_network/_multilayer_perceptron.py:702: ConvergenceWarning: Stochastic Optimizer: Maximum iterations (200) reached and the optimization hasn't converged yet.\n",
            "  warnings.warn(\n",
            "/Users/prlewis/opt/anaconda3/lib/python3.9/site-packages/sklearn/neural_network/_multilayer_perceptron.py:702: ConvergenceWarning: Stochastic Optimizer: Maximum iterations (200) reached and the optimization hasn't converged yet.\n",
            "  warnings.warn(\n",
            "/Users/prlewis/opt/anaconda3/lib/python3.9/site-packages/sklearn/neural_network/_multilayer_perceptron.py:702: ConvergenceWarning: Stochastic Optimizer: Maximum iterations (200) reached and the optimization hasn't converged yet.\n",
            "  warnings.warn(\n",
            "/Users/prlewis/opt/anaconda3/lib/python3.9/site-packages/sklearn/neural_network/_multilayer_perceptron.py:702: ConvergenceWarning: Stochastic Optimizer: Maximum iterations (200) reached and the optimization hasn't converged yet.\n",
            "  warnings.warn(\n"
          ]
        },
        {
          "data": {
            "text/plain": [
              "{'activation': 'tanh',\n",
              " 'alpha': 0.05,\n",
              " 'hidden_layer_sizes': (100,),\n",
              " 'learning_rate': 'constant'}"
            ]
          },
          "execution_count": 15,
          "metadata": {},
          "output_type": "execute_result"
        }
      ],
      "source": [
        "#Set up a variety of possible hyperparameters that we'll pefrom a grid search on\n",
        "parameter_space = {\n",
        "    'hidden_layer_sizes': [(50,),(100,)],\n",
        "    'activation': ['tanh', 'relu'],\n",
        "    'alpha': [0.0001, 0.001, 0.01, 0.05],\n",
        "    'learning_rate': ['constant','adaptive'],\n",
        "}\n",
        "from sklearn.model_selection import GridSearchCV\n",
        "clf2 = GridSearchCV(mlp_orig, parameter_space, n_jobs=-1, cv=5)\n",
        "clf2.fit(X_train, y_train)\n",
        "clf2.best_params_"
      ]
    },
    {
      "cell_type": "code",
      "execution_count": 16,
      "metadata": {},
      "outputs": [
        {
          "name": "stdout",
          "output_type": "stream",
          "text": [
            "Tuned Validation Confusion Matrix:\n",
            "[[700 126]\n",
            " [129 170]]\n",
            "Tuned Validation Accuracy: 0.7733\n",
            "Tuned Test Confusion Matrix:\n",
            "[[896 137]\n",
            " [158 216]]\n",
            "Tuned Test Accuracy: 0.7903\n"
          ]
        }
      ],
      "source": [
        "mlp_tuned = MLPClassifier(random_state=15, alpha=0.01)\n",
        "mlp_tuned.fit(X_train, y_train)\n",
        "#Validation Confusion Matrix\n",
        "y_valid_pred = mlp_tuned.predict(X_valid)\n",
        "print('Tuned Validation Confusion Matrix:')\n",
        "print(confusion_matrix(y_valid, y_valid_pred))\n",
        "print('Tuned Validation Accuracy:', round(metrics.accuracy_score(y_valid, y_valid_pred),4))\n",
        "#Test Confusion Matrix\n",
        "y_test_pred = mlp_tuned.predict(X_test)\n",
        "print('Tuned Test Confusion Matrix:')\n",
        "print(confusion_matrix(y_test, y_test_pred))\n",
        "print('Tuned Test Accuracy:', round(metrics.accuracy_score(y_test, y_test_pred),4))"
      ]
    },
    {
      "cell_type": "markdown",
      "metadata": {},
      "source": [
        "After doing a grid search to find the optimal comibination of possible parameters that we provided, all we ended up changing from the default MLP parameters was an alpha of 0.01 instead of 0.0001. This improved both our validation and test accuracy slightly and led to about the same AUC's in the ROC curves below."
      ]
    },
    {
      "cell_type": "code",
      "execution_count": 17,
      "metadata": {
        "id": "o19xktKgbx_m"
      },
      "outputs": [
        {
          "data": {
            "text/plain": [
              "Text(0.5, 1.0, 'ROC Curve for Test Data')"
            ]
          },
          "execution_count": 17,
          "metadata": {},
          "output_type": "execute_result"
        },
        {
          "data": {
            "image/png": "[encoded data removed]",
            "text/plain": [
              "<Figure size 432x288 with 1 Axes>"
            ]
          },
          "metadata": {
            "needs_background": "light"
          },
          "output_type": "display_data"
        },
        {
          "data": {
            "image/png": "[encoded data removed]",
            "text/plain": [
              "<Figure size 432x288 with 1 Axes>"
            ]
          },
          "metadata": {
            "needs_background": "light"
          },
          "output_type": "display_data"
        }
      ],
      "source": [
        "# Plot ROC curves\n",
        "fig, ax = plt.subplots()\n",
        "metrics.plot_roc_curve(clf, X_valid, y_valid, ax=ax, name='Decision Tree')\n",
        "metrics.plot_roc_curve(log_mod, X_valid, y_valid, ax=ax, name='Logistic Regression')\n",
        "metrics.plot_roc_curve(mlp_orig, X_valid, y_valid, ax=ax, name='MLP Original')\n",
        "metrics.plot_roc_curve(mlp_tuned, X_valid, y_valid, ax=ax, name='MLP Tuned')\n",
        "plt.title('ROC Curve for Validation Data')\n",
        "\n",
        "fig2, ax2 = plt.subplots()\n",
        "metrics.plot_roc_curve(clf, X_test, y_test, ax=ax2, name='Decision Tree')\n",
        "metrics.plot_roc_curve(log_mod, X_test, y_test, ax=ax2, name='Logistic Regression')\n",
        "metrics.plot_roc_curve(mlp_orig, X_test, y_test, ax=ax2, name='MLP Original')\n",
        "metrics.plot_roc_curve(mlp_tuned, X_test, y_test, ax=ax2, name='MLP Tuned')\n",
        "plt.title('ROC Curve for Test Data')"
      ]
    },
    {
      "cell_type": "code",
      "execution_count": 18,
      "metadata": {
        "id": "xWDR41UgbyHq"
      },
      "outputs": [
        {
          "data": {
            "text/plain": [
              "Text(0.5, 1.0, 'PR Curve for Test Data')"
            ]
          },
          "execution_count": 18,
          "metadata": {},
          "output_type": "execute_result"
        },
        {
          "data": {
            "image/png": "[encoded data removed]",
            "text/plain": [
              "<Figure size 432x288 with 1 Axes>"
            ]
          },
          "metadata": {
            "needs_background": "light"
          },
          "output_type": "display_data"
        },
        {
          "data": {
            "image/png": "[encoded data removed]",
            "text/plain": [
              "<Figure size 432x288 with 1 Axes>"
            ]
          },
          "metadata": {
            "needs_background": "light"
          },
          "output_type": "display_data"
        }
      ],
      "source": [
        "# Plot PR curves\n",
        "fig, ax = plt.subplots()\n",
        "metrics.plot_precision_recall_curve(clf, X_valid, y_valid, ax=ax, name='Decision Tree')\n",
        "metrics.plot_precision_recall_curve(log_mod, X_valid, y_valid, ax=ax, name='Logistic Regression')\n",
        "metrics.plot_precision_recall_curve(mlp_orig, X_valid, y_valid, ax=ax, name='MLP Original')\n",
        "metrics.plot_precision_recall_curve(mlp_tuned, X_valid, y_valid, ax=ax, name='MLP Tuned')\n",
        "plt.title('PR Curve for Validation Data')\n",
        "\n",
        "fig2, ax2 = plt.subplots()\n",
        "metrics.plot_precision_recall_curve(clf, X_test, y_test, ax=ax2, name='Decision Tree')\n",
        "metrics.plot_precision_recall_curve(log_mod, X_test, y_test, ax=ax2, name='Logistic Regression')\n",
        "metrics.plot_precision_recall_curve(mlp_orig, X_test, y_test, ax=ax2, name='MLP Original')\n",
        "metrics.plot_precision_recall_curve(mlp_tuned, X_test, y_test, ax=ax2, name='MLP Tuned')\n",
        "plt.title('PR Curve for Test Data')"
      ]
    },
    {
      "cell_type": "markdown",
      "metadata": {
        "id": "1hte01p1BNSF"
      },
      "source": [
        "## [4 points] Handling Class Imbalance with SMOTE\n",
        "\n",
        "Go through the documentation [here](https://imbalanced-learn.org/stable/references/generated/imblearn.over_sampling.SMOTE.html) to understand how to use imbalanced-learn's SMOTE to counter class imbalance in the data."
      ]
    },
    {
      "cell_type": "markdown",
      "metadata": {
        "id": "DDGPAvYrLLJs"
      },
      "source": [
        "(a) [1 pt] Split the data into training (80%) and test sets (20%) with a random state of 15. Perform stratified sampling on the target variable while doing so.\n",
        "\n",
        "Note: The 'stratify' parameter can be used for this in the train_test_split function. "
      ]
    },
    {
      "cell_type": "code",
      "execution_count": 28,
      "metadata": {
        "id": "Icmp3EJ0LOwv"
      },
      "outputs": [],
      "source": [
        "X = df2.drop('Churn',axis='columns')\n",
        "y = df2['Churn']\n",
        "\n",
        "# Train test split\n",
        "X_train, X_test, y_train, y_test = train_test_split(X, y, test_size=0.2, random_state=15,stratify=y)"
      ]
    },
    {
      "cell_type": "markdown",
      "metadata": {
        "id": "rZFToY0eDEjZ"
      },
      "source": [
        "(b) [2 pts] Perform SMOTE on the training data and print the value counts of the target variable in the data."
      ]
    },
    {
      "cell_type": "code",
      "execution_count": 29,
      "metadata": {
        "id": "iLbZSI_o-27a"
      },
      "outputs": [
        {
          "name": "stdout",
          "output_type": "stream",
          "text": [
            "0    4130\n",
            "1    4130\n",
            "Name: Churn, dtype: int64\n"
          ]
        }
      ],
      "source": [
        "# To install imbalanced-learn library use pip install imbalanced-learn command\n",
        "\n",
        "from imblearn.over_sampling import SMOTE\n",
        "\n",
        "# Answer here\n",
        "sm = SMOTE(random_state=15)\n",
        "X_train, y_train = sm.fit_resample(X_train, y_train)\n",
        "print(y_train.value_counts())"
      ]
    },
    {
      "cell_type": "markdown",
      "metadata": {
        "id": "bBmI59gEDh3Z"
      },
      "source": [
        "(c) [1 pt] Split the updated training data (on which SMOTE has been run) further into training (80%) and validation sets (20%) with a random state of 15. Perform stratified sampling on the target variable while doing so.\n",
        "\n",
        "Note: The 'stratify' parameter can be used for this in the train_test_split function. "
      ]
    },
    {
      "cell_type": "code",
      "execution_count": 21,
      "metadata": {
        "id": "kpdlvaL3B8SM"
      },
      "outputs": [],
      "source": [
        "# Answer here\n",
        "X_train, X_valid, y_train, y_valid = train_test_split(X_train, y_train, test_size=0.2, random_state=15,stratify=y_train)"
      ]
    },
    {
      "cell_type": "code",
      "execution_count": 22,
      "metadata": {
        "id": "ZNb9xnW5B-lE"
      },
      "outputs": [
        {
          "data": {
            "text/plain": [
              "1    3304\n",
              "0    3304\n",
              "Name: Churn, dtype: int64"
            ]
          },
          "execution_count": 22,
          "metadata": {},
          "output_type": "execute_result"
        }
      ],
      "source": [
        "# Number of classes in training Data\n",
        "y_train.value_counts()"
      ]
    },
    {
      "cell_type": "code",
      "execution_count": 23,
      "metadata": {
        "id": "folkBsCgLvn4"
      },
      "outputs": [
        {
          "data": {
            "text/plain": [
              "1    826\n",
              "0    826\n",
              "Name: Churn, dtype: int64"
            ]
          },
          "execution_count": 23,
          "metadata": {},
          "output_type": "execute_result"
        }
      ],
      "source": [
        "# Number of classes in validation Data\n",
        "y_valid.value_counts()"
      ]
    },
    {
      "cell_type": "markdown",
      "metadata": {
        "id": "RikiMZSkEs7q"
      },
      "source": [
        "## [2 points] Retraining the Classifiers\n",
        "\n",
        "Now that we have created synthetic samples of the minority class, let's proceed further to see if we see any improvements in our results. For the two models - Logistic regressor and MLP, do the folowing:\n",
        "\n",
        "(a) [1 pt] Train a model on the training dataset. <br>\n",
        "(b) [1 pt] Make predictions on the test data using the trained model and print confusion matrix for both - the validation and the test data."
      ]
    },
    {
      "cell_type": "code",
      "execution_count": 24,
      "metadata": {
        "id": "7N09MtZqcTnt"
      },
      "outputs": [
        {
          "name": "stdout",
          "output_type": "stream",
          "text": [
            "Validation Confusion Matrix:\n",
            "[[616 210]\n",
            " [130 696]]\n",
            "Validation Accuracy: 0.7942\n",
            "Test Confusion Matrix:\n",
            "[[796 237]\n",
            " [ 93 281]]\n",
            "Test Accuracy: 0.7655\n"
          ]
        }
      ],
      "source": [
        "# Logistic Regression\n",
        "log_mod = LogisticRegression()\n",
        "log_mod.fit(X_train, y_train)\n",
        "#Validation Confusion Matrix\n",
        "y_valid_pred = log_mod.predict(X_valid)\n",
        "print('Validation Confusion Matrix:')\n",
        "print(confusion_matrix(y_valid, y_valid_pred))\n",
        "print('Validation Accuracy:', round(metrics.accuracy_score(y_valid, y_valid_pred),4))\n",
        "#Test Confusion Matrix\n",
        "y_test_pred = log_mod.predict(X_test)\n",
        "print('Test Confusion Matrix:')\n",
        "print(confusion_matrix(y_test, y_test_pred))\n",
        "print('Test Accuracy:', round(metrics.accuracy_score(y_test, y_test_pred),4))\n",
        "#Get inputs for ROC curve below\n",
        "lr_fpr_valid, lr_tpr_valid, _ = metrics.roc_curve(y_valid, y_valid_pred)\n",
        "lr_fpr_test, lr_tpr_test, _ = metrics.roc_curve(y_test, y_test_pred)\n",
        "lr_auc_valid = round(metrics.roc_auc_score(y_valid, y_valid_pred), 4)\n",
        "lr_auc_test = round(metrics.roc_auc_score(y_test, y_test_pred), 4)\n",
        "#Get inputs for PR curve below\n",
        "lr_precision_valid, lr_recall_valid, _ = metrics.precision_recall_curve(y_valid, y_valid_pred)\n",
        "lr_precision_test, lr_recall_test, _ = metrics.precision_recall_curve(y_test, y_test_pred)"
      ]
    },
    {
      "cell_type": "code",
      "execution_count": 25,
      "metadata": {
        "id": "CfMceRxncTvy"
      },
      "outputs": [
        {
          "name": "stdout",
          "output_type": "stream",
          "text": [
            "Validation Confusion Matrix:\n",
            "[[659 167]\n",
            " [119 707]]\n",
            "Validation Accuracy: 0.8269\n",
            "Test Confusion Matrix:\n",
            "[[803 230]\n",
            " [135 239]]\n",
            "Test Accuracy: 0.7406\n"
          ]
        }
      ],
      "source": [
        "# MLP\n",
        "mlp = MLPClassifier(random_state=15)\n",
        "mlp.fit(X_train, y_train)\n",
        "#Validation Confusion Matrix\n",
        "y_valid_pred = mlp.predict(X_valid)\n",
        "print('Validation Confusion Matrix:')\n",
        "print(confusion_matrix(y_valid, y_valid_pred))\n",
        "print('Validation Accuracy:', round(metrics.accuracy_score(y_valid, y_valid_pred),4))\n",
        "#Test Confusion Matrix\n",
        "y_test_pred = mlp.predict(X_test)\n",
        "print('Test Confusion Matrix:')\n",
        "print(confusion_matrix(y_test, y_test_pred))\n",
        "print('Test Accuracy:', round(metrics.accuracy_score(y_test, y_test_pred),4))"
      ]
    },
    {
      "cell_type": "markdown",
      "metadata": {
        "id": "yM5Y41h9D3b8"
      },
      "source": [
        "## [9 points] Plotting and Comparison\n",
        "a) [1 pt] For the two classifiers (Logistic regression and MLP) - plot the ROC Curves in a single graph, display the AUC-ROC scores in this plot as well on both the validation and the test data. Use one graph for validation data and one graph for test data. <br>\n",
        "b) [1 pt] Plot the Precision-Recall curves for the two classifiers in a single graph on both the validation and the test data. Use one graph for validation data and one graph for test data. <br>\n",
        "c) [7 pts] Compare and contrast the performance of the classifiers with reference to these two plots and with reference to the plots that were computed before using SMOTE. Specifically comment on what you observed regarding the difference in performance on the validation vs. the test dataset, which is a better representative of the actual/original problem."
      ]
    },
    {
      "cell_type": "code",
      "execution_count": 26,
      "metadata": {
        "id": "S9qTDuMUccPl"
      },
      "outputs": [
        {
          "data": {
            "text/plain": [
              "Text(0.5, 1.0, 'ROC Curve for Test Data')"
            ]
          },
          "execution_count": 26,
          "metadata": {},
          "output_type": "execute_result"
        },
        {
          "data": {
            "image/png": "[encoded data removed]",
            "text/plain": [
              "<Figure size 432x288 with 1 Axes>"
            ]
          },
          "metadata": {
            "needs_background": "light"
          },
          "output_type": "display_data"
        },
        {
          "data": {
            "image/png": "[encoded data removed]",
            "text/plain": [
              "<Figure size 432x288 with 1 Axes>"
            ]
          },
          "metadata": {
            "needs_background": "light"
          },
          "output_type": "display_data"
        }
      ],
      "source": [
        "# Plot ROC curves\n",
        "fig, ax = plt.subplots()\n",
        "metrics.plot_roc_curve(log_mod, X_valid, y_valid, ax=ax, name='Logistic Regression')\n",
        "metrics.plot_roc_curve(mlp, X_valid, y_valid, ax=ax, name='MLP')\n",
        "plt.title('ROC Curve for Validation Data')\n",
        "\n",
        "fig2, ax2 = plt.subplots()\n",
        "metrics.plot_roc_curve(log_mod, X_test, y_test, ax=ax2, name='Logistic Regression')\n",
        "metrics.plot_roc_curve(mlp, X_test, y_test, ax=ax2, name='MLP')\n",
        "plt.title('ROC Curve for Test Data')\n"
      ]
    },
    {
      "cell_type": "code",
      "execution_count": 27,
      "metadata": {
        "id": "iQawBQAyccVx"
      },
      "outputs": [
        {
          "data": {
            "text/plain": [
              "Text(0.5, 1.0, 'PR Curve for Test Data')"
            ]
          },
          "execution_count": 27,
          "metadata": {},
          "output_type": "execute_result"
        },
        {
          "data": {
            "image/png": "[encoded data removed]",
            "text/plain": [
              "<Figure size 432x288 with 1 Axes>"
            ]
          },
          "metadata": {
            "needs_background": "light"
          },
          "output_type": "display_data"
        },
        {
          "data": {
            "image/png": "[encoded data removed]",
            "text/plain": [
              "<Figure size 432x288 with 1 Axes>"
            ]
          },
          "metadata": {
            "needs_background": "light"
          },
          "output_type": "display_data"
        }
      ],
      "source": [
        "# Plot PR curves\n",
        "fig, ax = plt.subplots()\n",
        "metrics.plot_precision_recall_curve(log_mod, X_valid, y_valid, ax=ax, name='Logistic Regression')\n",
        "metrics.plot_precision_recall_curve(mlp, X_valid, y_valid, ax=ax, name='MLP')\n",
        "plt.title('PR Curve for Validation Data')\n",
        "\n",
        "fig2, ax2 = plt.subplots()\n",
        "metrics.plot_precision_recall_curve(log_mod, X_test, y_test, ax=ax2, name='Logistic Regression')\n",
        "metrics.plot_precision_recall_curve(mlp, X_test, y_test, ax=ax2, name='MLP')\n",
        "plt.title('PR Curve for Test Data')"
      ]
    },
    {
      "cell_type": "markdown",
      "metadata": {
        "id": "m7nFGprQccdO"
      },
      "source": [
        "c)"
      ]
    },
    {
      "cell_type": "markdown",
      "metadata": {
        "id": "AmLndaMeDwrb"
      },
      "source": [
        "# Question 4: Bayesian Belief Networks [15 pts]\n",
        "\n"
      ]
    },
    {
      "cell_type": "markdown",
      "metadata": {
        "id": "LltKbWoIhdfz"
      },
      "source": [
        "Refer to the Bayesian Network Belief image (uploaded with the notebook on canvas) for this question. "
      ]
    },
    {
      "cell_type": "markdown",
      "metadata": {},
      "source": [
        "All nodes are binary and can take 0/1 values\n",
        "\n",
        "The probabilities are given below:\n",
        "\n",
        "P(Season = 1) = .001   \n",
        "P(Atmospheric Pressure = 1) = 0.002\n",
        "\n",
        "\n",
        "P(Rain = 1 | Season = 0, Atmospheric Pressure = 0) = .001  \n",
        "P(Rain = 1 | Season = 0, Atmospheric Pressure = 1) = .29  \n",
        "P(Rain = 1 | Season = 1, Atmospheric Pressure = 0) = .94  \n",
        "P(Rain = 1 | Season = 1, Atmospheric Pressure = 1) = .95\n",
        "\n",
        "P(Umbrella = 1 | Rain = 1) = .9  \n",
        "P(Umbrella = 1 | Rain = 0) = .05\n",
        "\n",
        "For the given Bayesian network, Compute the following probabilities : "
      ]
    },
    {
      "cell_type": "markdown",
      "metadata": {},
      "source": [
        "#### Part A: "
      ]
    },
    {
      "cell_type": "markdown",
      "metadata": {
        "id": "6WX3FxClD-n7"
      },
      "source": [
        "**(a) [4 pts]** Find the probability that  Umbrella = 0 \n",
        "\n",
        "<br>\n",
        "Since the probabilities have to add up to 1, we know that P(Rain = 0 | Season = 0, Atmospheric Pressure = 0) = 0.999, P(Rain = 0 | Season = 0, Atmospheric Pressure = 1) = 0.71, P(Rain = 0 | Season = 1, Atmospheric Pressure = 0) = 0.06, P(Rain = 0 | Season = 1, Atmospheric Pressure = 1) = 0.05. We also know that P(Umbrella = 0 | Rain = 1) = 0.1, and P(Umbrella = 0 | Rain = 0) = 0.95.\n",
        "\n",
        "<br>\n",
        "While tedious, if we get all atomic events, it allows us to find all probabilities.\n",
        "\n",
        "<br>\n",
        "<br>\n",
        "<table>\n",
        "<th>Atomic Event</th> \n",
        "<th>Component Probabilities</th>\n",
        "<th>Atomic Event Probability</th>\n",
        "<tr>\n",
        "<td>Season 0, AP 0, Rain 0, Umbrella 0</td>  <td>0.999*0.998*0.999*0.95</td> <td>0.946205</td>\n",
        "<tr>\n",
        "<td>Season 0, AP 0, Rain 0, Umbrella 1</td> <td>0.999*0.998*0.999*0.05</td> <td>0.0498</td>\n",
        "<tr>\n",
        "<td>Season 0, AP 0, Rain 1, Umbrella 0</td>  <td>0.999*0.998*0.001*0.1</td>  <td>0.0001</td>\n",
        "<tr>\n",
        "<td>Season 0, AP 0, Rain 1, Umbrella 1</td>  <td>0.999*0.998*0.001*0.9</td>  <td>0.000897</td> \n",
        "<tr>\n",
        "<td>Season 0, AP 1, Rain 0, Umbrella 0</td>  <td>0.999*0.002*0.71*0.95</td>  <td>0.001348</td>\n",
        "<tr>\n",
        "<td>Season 0, AP 1, Rain 0, Umbrella 1</td>  <td>0.999*0.002*0.71*0.05</td>  <td>0.000071</td>\n",
        "<tr>\n",
        "<td>Season 0, AP 1, Rain 1, Umbrella 0</td>  <td>0.999*0.002*0.29*0.1</td>  <td>0.000058</td>\n",
        "<tr>\n",
        "<td>Season 0, AP 1, Rain 1, Umbrella 1</td>  <td>0.999*0.002*0.29*0.9</td>   <td>0.000521</td>\n",
        "<tr>\n",
        "<td>Season 1, AP 0, Rain 0, Umbrella 0</td>  <td>0.001*0.998*0.06*0.95</td>  <td>0.000057</td>\n",
        "<tr>\n",
        "<td>Season 1, AP 0, Rain 0, Umbrella 1</td>  <td>0.001*0.998*0.06*0.05</td>  <td>0.000003</td>\n",
        "<tr>\n",
        "<td>Season 1, AP 0, Rain 1, Umbrella 0</td>  <td>0.001*0.998*0.94*0.1</td>   <td>0.000094</td>\n",
        "<tr>\n",
        "<td>Season 1, AP 0, Rain 1, Umbrella 1</td>  <td>0.001*0.998*0.94*0.9</td>   <td>0.000844</td>\n",
        "<tr>\n",
        "<td>Season 1, AP 1, Rain 0, Umbrella 0</td>  <td>0.001*0.002*0.05*0.95</td>  <td>0</td>\n",
        "<tr>\n",
        "<td>Season 1, AP 1, Rain 0, Umbrella 1</td>  <td>0.001*0.002*0.05*0.05</td>  <td>0</td>\n",
        "<tr>\n",
        "<td>Season 1, AP 1, Rain 1, Umbrella 0</td>  <td>0.001*0.002*0.95*0.1</td>   <td>0</td>\n",
        "<tr>\n",
        "<td>Season 1, AP 1, Rain 1, Umbrella 1</td>  <td>0.001*0.002*0.95*0.95</td>  <td>0.000002</td>\n",
        "<table>\n",
        "<br>\n",
        "The cases where Umbrella = 0 are: Season 0, AP 0, Rain 0, Umbrella 0 | Season 0, AP 0, Rain 1, Umbrella 0 | Season 0, AP 1, Rain 0, Umbrella 0 | Season 0, AP 1, Rain 1, Umbrella 0 | Season 1, AP 0, Rain 0, Umbrella 0 | Season 1, AP 0, Rain 1, Umbrella 0 | Season 1, AP 1, Rain 0, Umbrella 0 | Season 1, AP 1, Rain 1, Umbrella 0\n",
        "<br>\n",
        "<br>\n",
        "Now we can just add up the probabilities of the 8 cases where Umbrella = 0 to get: (0.946205+0.0001+0.001348+0.000058+0.000057+0.000094+0+) = <b>0.947861</b>."
      ]
    },
    {
      "cell_type": "markdown",
      "metadata": {},
      "source": [
        "##### Part B: "
      ]
    },
    {
      "cell_type": "markdown",
      "metadata": {},
      "source": [
        "**(b) [4 pts]** Given that there is low Atmospheric Pressure (Atmospheric Pressure = 0), what is the probability that Rain = 1\n",
        "\n",
        "To get this probability, we sum the probabilities of all atomic events where AP = 0 AND Rain = 1 divided by the sum of the probabilities of all atomic events where AP = 0. We get <b>0.001939</b>"
      ]
    },
    {
      "cell_type": "markdown",
      "metadata": {},
      "source": [
        "#### Part C: "
      ]
    },
    {
      "cell_type": "markdown",
      "metadata": {},
      "source": [
        "**(c) [7 pts]** Given that it rains(Rain = 1), what is the probability that the it is rainy season (Season = 1)\n",
        "<br>\n",
        "<br>\n",
        "To get this probability, we sum the probabilities of all atomic events where Rain = 1 and Season = 1 divided by the sum of the probabilities of all atomic events where Rain = 1. We get <b>0.373575</b>.\n"
      ]
    },
    {
      "cell_type": "markdown",
      "metadata": {
        "id": "FERAf2_RAQwS"
      },
      "source": [
        "# Question 5: Support Vector Machines [10 pts]"
      ]
    },
    {
      "cell_type": "markdown",
      "metadata": {
        "id": "sRvnprYqU92B"
      },
      "source": [
        "1. [3 pts] Explain in what sense the Support Vector Machine seeks an optimal answer in the space of linear classifiers. <br><br>\n",
        "The Support Vector Machine is a linear model for classification and regression problems and can solve both linear and non-linear problems. The SVM algorithm works by creating a line (or hyperplane) that best separates the data points into their respective classes. The most optimal line is found by maximizing the margin between the two classes, which is the distance between the optimal line and the closest point in each class, or the support vectors. The SVM algorithm defines its optimal decision boundary by finding the widest separation between classes (maximizing margin) as possible. The SVM have a very unique quality in that it is not always necessary for input data to be a vector (i.e. graphs, sequences, relational data), and suitable kernels exist for more complex data types. SVMs are among some of the best performers for numerous classification tasks. Also, SVMs can handle multi-class problems as well as well as are scalable for high dimensional data. For these reasons, the SVM is an optimal answer in the space of linear classifiers. "
      ]
    },
    {
      "cell_type": "markdown",
      "metadata": {},
      "source": [
        "2. [3 pts] Describe how a slack variable works.<br><br>\n",
        "A slack variable works in the SVM algorithm by allowing examples in the data set to \"break\" into the margin and therefore \"violate\" the margin. This comes into play where there are no feasible solutions in a Hard SVM problem where the data is not separable. The slack variable allows for some points break into the margin and not affect the computation of the margin (i.e. make the margin smaller or the data inseparable) and optimal decision boundary. Each data point has some slack variable, E_i, associated with it. Each variable is greater than or equal to zero and is used in the optimzation problem as such: the optimal decision boundary is found by minimizing the sum of the slack variables and maximizing the margin. Minimizing the slack is in effect allowing as few examples as possible to violate the margin. There is a parameter \"C\" that is specified in the SVM algorithm that controls the tradeoff between the loss associated with the slack variables and the margin (slack variables govern the bias-variance trade-off). A higher C assigns a stronger penalty to the slack variables and produces a harder margin, while a lower C assigns a weaker penalty to the slack variables and produces a softer margin. The slack moves in the opposite direction that regularization penalities would, because more slack would be the same as applying less regularization and less slack would be in tune with higher regularization."
      ]
    },
    {
      "cell_type": "markdown",
      "metadata": {},
      "source": [
        "3. [4 pts] Explain how the SVM framework can be extended in order to provide non-linear decision boundaries.<br><br>\n",
        "The SVM framework can be extended to provide non-linear boundaries by adding extra dimensions so that the original data can become linearly separable then projecting that decision boundary back onto the original dimensions (using a mathematical transformation). In a simple example of data in two dimensions that is separable with a circle (clearly not linearly separable), a straight line in the two dimensional space will not classify it well. If a third dimension, z, was added, that was defined as the square of the distance of each point from the origin (z = x^2 +  y^2), then the problem could be fixed. In a plot of the points on the xz plane, the points would be clearly divided by a straight line (z = k). The equation of a circle x^2 + y^2 = k would be projected into the original x-y dimensions using this transformation. In this way, adding a higher dimension allows a linear separator in that higher dimension to be mathematically transformed back into the original dimesion to provide a linear decision boundary for non-linearly separable data. The process that allows this to occur involves kernel functions, or functions with a notion of \"similarity\" for the particular problem space. Some examples of kernel functions are linear, gaussian or polynomial functions. The kernel function must be fitting in the particular problem space, but helps to implicitly map each data point to a higher dimensional space and performs an inner dot product without directly having to compute each phi-transformed x explicitly. With both a kernel function and slack variables (if used), a non-linear decision boundary can be created. The two knobs in SVM are the kernel function and the slack parameter C. Necessary kernel parameters as well as C can be found with grid search.\n"
      ]
    }
  ],
  "metadata": {
    "colab": {
      "collapsed_sections": [],
      "provenance": []
    },
    "kernelspec": {
      "display_name": "Python 3.9.12 ('base')",
      "language": "python",
      "name": "python3"
    },
    "language_info": {
      "codemirror_mode": {
        "name": "ipython",
        "version": 3
      },
      "file_extension": ".py",
      "mimetype": "text/x-python",
      "name": "python",
      "nbconvert_exporter": "python",
      "pygments_lexer": "ipython3",
      "version": "3.9.12"
    },
    "vscode": {
      "interpreter": {
        "hash": "6d16231084e55caf206c5dcf9a407b9830a1cccf4c1bfe921ab5cc3709ab824f"
      }
    }
  },
  "nbformat": 4,
  "nbformat_minor": 0
}
